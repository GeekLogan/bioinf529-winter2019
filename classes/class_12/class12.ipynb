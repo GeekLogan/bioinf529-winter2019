{
 "cells": [
  {
   "cell_type": "markdown",
   "metadata": {},
   "source": [
    "# Class : Hierarchical Clustering - UPGMA"
   ]
  },
  {
   "cell_type": "markdown",
   "metadata": {},
   "source": [
    "---\n",
    "\n",
    "## Before Class\n",
    "This weeks class we will be implementing UPGMA for hierarchical clustering. We will start with the implementation of a distance matrix today.\n",
    "\n",
    "Prior to class, please do the following:\n",
    "1. Review the structure of a distance matrix\n",
    "2. Compare Hamming and Levenshtein distances\n",
    "3. Re-familiarize yourself with numpy arrays"
   ]
  },
  {
   "cell_type": "markdown",
   "metadata": {},
   "source": [
    "---\n",
    "## Learning Objectives\n",
    "\n",
    "1. Implement a simple distance metric\n",
    "* Build a distance matric using the metric and a set of alignments"
   ]
  },
  {
   "cell_type": "markdown",
   "metadata": {},
   "source": [
    "---\n",
    "## Background\n",
    "Today we will start implementing a frequently used hierarchical clustering algorithm from Sokal and Michener (1958) called UPGMA - unweighted pair group method using arithmetic averages. The first step of this algorithm requires that we build a distance matrix for all of the alignments that we will be clustering. To accomplish this today, we will be using the Hamming distance of the sequences. The Hamming distance is total edit distance between two strings (the total number of changes required to make two strings exactly match). This metric requires that the strings are the same length. Luckily, our previous work on alignments results in strings that are all the same length and optimally aligned! We will be using those strings as input.\n"
   ]
  },
  {
   "cell_type": "markdown",
   "metadata": {},
   "source": [
    "---\n",
    "## Imports"
   ]
  },
  {
   "cell_type": "code",
   "execution_count": null,
   "metadata": {},
   "outputs": [],
   "source": [
    "import numpy as np"
   ]
  },
  {
   "cell_type": "markdown",
   "metadata": {},
   "source": [
    "---\n",
    "## Distance metrics for comparing sequences\n",
    "\n",
    "### Hamming Distance\n",
    "\n"
   ]
  },
  {
   "cell_type": "code",
   "execution_count": null,
   "metadata": {},
   "outputs": [],
   "source": [
    "def hamming_distance(alignment1, alignment2): \n",
    "    ''' Function to calculate Hamming distance between two alignments\n",
    "    \n",
    "    Args: \n",
    "        alignment1 (str): first sequence that has already been aligned\n",
    "        alignment2 (str): second sequence that has already been aligned\n",
    "\n",
    "    Returns:\n",
    "        distance (int): hamming distance between the two alignment\n",
    "    \n",
    "    '''\n"
   ]
  },
  {
   "cell_type": "code",
   "execution_count": null,
   "metadata": {},
   "outputs": [],
   "source": [
    "# Example data as from slides:\n",
    "alignment1 = \"TA-TTTA\"\n",
    "alignment2 = \"TA-TTAA\"\n",
    "print (hamming_distance(alignment1, alignment2))\n",
    "\n",
    "alignment1 = \"TA-TTCCA\"\n",
    "alignment2 = \"TA-TTAAC\"\n",
    "print (hamming_distance(alignment1, alignment2))\n",
    "\n",
    "alignment1 = \"TA-TTAAC\"\n",
    "alignment2 = \"TA-TTAAC\"\n",
    "print (hamming_distance(alignment1, alignment2))"
   ]
  },
  {
   "cell_type": "raw",
   "metadata": {},
   "source": [
    "Expected output:\n",
    "1\n",
    "3\n",
    "0"
   ]
  },
  {
   "cell_type": "code",
   "execution_count": null,
   "metadata": {},
   "outputs": [],
   "source": [
    "def build_distance_matrix(alignments): \n",
    "    ''' Function to build a distance matrix from a list of alignments\n",
    "    This is a number of alignments x number of alignments matrix with \n",
    "    all pairwise distances (and 0 along the diagonal).\n",
    "    All alignments must be same length!\n",
    "    \n",
    "    Args: \n",
    "        alignments (list of strings): a list of our sequence alignments\n",
    "\n",
    "    Returns:\n",
    "        distance_matrix (np.array of floats): n x n distance matrix\n",
    "    \n",
    "    '''\n",
    "    \n"
   ]
  },
  {
   "cell_type": "code",
   "execution_count": null,
   "metadata": {},
   "outputs": [],
   "source": [
    "# Example data as from slides:\n",
    "alignments = [\"TA-TTTA\", \"TA-TTAA\", \"TA-TTTA\", \"TACTT-A\", \"TACTTAA\"]\n",
    "\n",
    "D = build_distance_matrix(alignments)\n",
    "print(D)"
   ]
  },
  {
   "cell_type": "raw",
   "metadata": {},
   "source": [
    "Expected output:\n",
    "[[0. 1. 0. 2. 2.]\n",
    " [1. 0. 1. 2. 1.]\n",
    " [0. 1. 0. 2. 2.]\n",
    " [2. 2. 2. 0. 1.]\n",
    " [2. 1. 2. 1. 0.]]"
   ]
  }
 ],
 "metadata": {
  "kernelspec": {
   "display_name": "Python 3",
   "language": "python",
   "name": "python3"
  },
  "language_info": {
   "codemirror_mode": {
    "name": "ipython",
    "version": 3
   },
   "file_extension": ".py",
   "mimetype": "text/x-python",
   "name": "python",
   "nbconvert_exporter": "python",
   "pygments_lexer": "ipython3",
   "version": "3.7.2"
  }
 },
 "nbformat": 4,
 "nbformat_minor": 2
}
