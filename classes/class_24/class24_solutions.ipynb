{
 "cells": [
  {
   "cell_type": "markdown",
   "metadata": {},
   "source": [
    "# Class : Networks and enrichment"
   ]
  },
  {
   "cell_type": "markdown",
   "metadata": {},
   "source": [
    "---\n",
    "## Before Class\n",
    "1. Review slides on GSEA\n",
    "\n",
    "---\n",
    "## Learning Objectives\n",
    "1. Gene Ontology and Pathways\n",
    "* Gene set enrichment analysis\n"
   ]
  },
  {
   "cell_type": "markdown",
   "metadata": {},
   "source": [
    "---\n",
    "## Pathway enrichment analysis\n",
    "\n",
    "Often we identify large sets of features (for example, proteins, metabolites, transcribed genes, open chromatin regions, etc) and we would like to identfy if there is any enrichment with known pathways for these data. A common way of doing this is through enrichment analysis. Today we will be using a common enrichment analysis tool called GSEA (Gene Set Enrichment Analysis). The ultimate goal of this method is to identify if there is any enrichment of specific sets of genes given our features.\n",
    "\n",
    "```\n",
    "GSEA:\n",
    "    Rank genes by expression\n",
    "    Compute cumulative sum over ranked genes as:\n",
    "        +1/(gene set size) when gene is in set\n",
    "        -1/(remaining genes) otherwise\n",
    "    Enrichment = maximum deviation from zero\n",
    "    \n",
    "```\n",
    "\n"
   ]
  },
  {
   "cell_type": "code",
   "execution_count": null,
   "metadata": {},
   "outputs": [],
   "source": [
    "def read_gene_sets(filename):\n",
    "    \"\"\" Function to read in gene set file\n",
    "    \n",
    "    Args:\n",
    "        filename (str): file to be read\n",
    "        \n",
    "    Returns:\n",
    "        gene_sets (dict of lists): dictionary with keys of gene set names and values containing list of gene names\n",
    "    \n",
    "    Example:\n",
    "    >>> gene_sets = read_gene_sets(\"data/temp.gmt\")\n",
    "    >>> gene_sets['demo1']  #doctest: +ELLIPSIS +NORMALIZE_WHITESPACE\n",
    "    ['ATXN1', 'UBQLN4', 'CALM1', 'DLG4', 'MRE11A', 'CTNNB1', 'YWHAG', ...]\n",
    "    \"\"\"    \n",
    "    gene_sets = {}\n",
    "    file_object = open(filename, 'rt')\n",
    "    \n",
    "    for line in file_object:\n",
    "        values = line.strip().split(\"\\t\")\n",
    "        gene_sets[values[0]] = values[2:]\n",
    "\n",
    "    return gene_sets\n",
    "\n",
    "def read_expression(filename):\n",
    "    \"\"\" Function to read in expression file\n",
    "    \n",
    "    Args:\n",
    "        filename (str): file to be read\n",
    "        \n",
    "    Returns:\n",
    "        expression (dict): dictionary with keys of gene set names and values of expression\n",
    "\n",
    "    Example:\n",
    "    >>> expression = read_expression(\"data/temp.txt\")\n",
    "    >>> expression  #doctest: +ELLIPSIS +NORMALIZE_WHITESPACE\n",
    "    {'ATXN1': 16.4567529278529, 'UBQLN4': 13.9894927152905, 'CALM1': 13.7455333730743, ...}\n",
    "    \"\"\"  \n",
    "    expression = {}\n",
    "    file_object = open(filename, 'rt')\n",
    "    \n",
    "    for line in file_object:\n",
    "        values = line.strip().split(\"\\t\")\n",
    "        expression[values[0]] = float(values[1])\n",
    "\n",
    "    return expression\n",
    "    "
   ]
  },
  {
   "cell_type": "code",
   "execution_count": null,
   "metadata": {},
   "outputs": [],
   "source": [
    "#Read in our data\n",
    "gene_sets = read_gene_sets(\"data/temp.gmt\")\n",
    "expression = read_expression(\"data/temp.txt\")"
   ]
  },
  {
   "cell_type": "code",
   "execution_count": null,
   "metadata": {},
   "outputs": [],
   "source": [
    "def GSEA(gene_set, expression):\n",
    "    \"\"\" Function to perform GSEA testing on a gene set and expression data set\n",
    "    \n",
    "    Args:\n",
    "        gene_set (list): list of gene names in a gene set\n",
    "        expression (dict): dictionary with keys of gene set names and values of expression\n",
    "        \n",
    "    Returns:\n",
    "        enrichment (float): enrichment score for a given gene set\n",
    "        score (list): list of scores as sorted genes are compared to gene set\n",
    "        \n",
    "    Example:\n",
    "    >>> gene_sets = read_gene_sets(\"data/temp.gmt\")\n",
    "    >>> expression = read_expression(\"data/temp.txt\")\n",
    "    >>> GSEA(gene_sets['demo1'], expression)  #doctest: +ELLIPSIS +NORMALIZE_WHITESPACE\n",
    "    (1.0000000000000004, [0, 0.022222222222222223, 0.044444444444444446, 0.06666666666666667, ...)\n",
    "    \"\"\"  \n",
    "    hit_score = 1/len(gene_set)\n",
    "    miss_score = -1/(len(expression)-len(gene_set))\n",
    "    score = [0]\n",
    "    enrichment = 0\n",
    "\n",
    "    sorted_expression = sorted(expression, key=expression.get, reverse=True)\n",
    "\n",
    "    for i, gene in enumerate(sorted_expression):\n",
    "        if gene in gene_set:\n",
    "            new_score = score[i] + hit_score\n",
    "        else:\n",
    "            new_score = score[i] + miss_score\n",
    "\n",
    "        score.append(new_score)\n",
    "        if new_score > enrichment:\n",
    "            enrichment = new_score\n",
    "    \n",
    "    return enrichment, score\n"
   ]
  },
  {
   "cell_type": "code",
   "execution_count": null,
   "metadata": {},
   "outputs": [],
   "source": [
    "gene_sets = read_gene_sets(\"data/temp.gmt\")\n",
    "expression = read_expression(\"data/temp.txt\")\n",
    "GSEA(gene_sets['demo1'], expression)\n"
   ]
  },
  {
   "cell_type": "markdown",
   "metadata": {},
   "source": [
    "## Plotting GSEA\n",
    "\n",
    "Next, we will plot the results of the GSEA analyses as below:\n",
    "\n",
    "<img src=\"figures/gsea_plot.png\">"
   ]
  },
  {
   "cell_type": "code",
   "execution_count": null,
   "metadata": {},
   "outputs": [],
   "source": [
    "def plot_GSEA(scores):\n",
    "    \"\"\" Function to make GSEA plots\n",
    "    \n",
    "    Args:\n",
    "        score (list): list of scores as sorted genes are compared to gene set\n",
    "    \"\"\"  \n",
    "    plt.plot(scores)\n",
    "    plt.show()"
   ]
  },
  {
   "cell_type": "code",
   "execution_count": null,
   "metadata": {},
   "outputs": [],
   "source": [
    "# Here we plot everything\n",
    "import matplotlib.pyplot as plt\n",
    "\n",
    "for gene_set in gene_sets:\n",
    "    enrichment, scores = GSEA(gene_sets[gene_set], expression)\n",
    "    print(gene_set, enrichment)\n",
    "    plot_GSEA(scores)"
   ]
  },
  {
   "cell_type": "markdown",
   "metadata": {},
   "source": [
    "## Assessing significance\n",
    "\n",
    "For GSEA and other similar models, it is often difficult to accurately model a background expectation. In these cases we can use simulations to estimate an empirical p-value:\n",
    "\n",
    "```\n",
    "for 1000 permutations:\n",
    "    select random gene set of the same size as existing gene set\n",
    "    calculate enrichment score for this gene set\n",
    "    \n",
    "p_val <= Number of permutations with a higher score / total number of permutations\n",
    "```"
   ]
  },
  {
   "cell_type": "code",
   "execution_count": null,
   "metadata": {},
   "outputs": [],
   "source": [
    "import random\n",
    "\n",
    "def permute_GSEA(enrichment, gene_set, expression, permutations=1000, seed=42):\n",
    "    \"\"\" Function to perform GSEA testing on a gene set and expression data set\n",
    "    \n",
    "    Args:\n",
    "        enrichment (float): enrichment of the gene set\n",
    "        gene_set (list): list of gene names in a gene set\n",
    "        expression (dict): dictionary with keys of gene set names and values of expression\n",
    "        permutations (int): number of permutations\n",
    "        seed (int): seed for random.sample\n",
    "        \n",
    "    Returns:\n",
    "        p_val (float): empirical p-pvalue for enrichment\n",
    "        \n",
    "    Example:\n",
    "    >>> gene_sets = read_gene_sets(\"data/temp.gmt\")\n",
    "    >>> expression = read_expression(\"data/temp.txt\")\n",
    "    >>> enrichment, scores = GSEA(gene_sets['demo1'], expression)\n",
    "    >>> permute_GSEA(enrichment, gene_set, expression, permutations=10, seed=42) #doctest: +ELLIPSIS +NORMALIZE_WHITESPACE\n",
    "    0.0\n",
    "    \"\"\"\n",
    "    random.seed(seed)\n",
    "    num_permutations = permutations\n",
    "    enrichment_scores = []\n",
    "    \n",
    "    for i in range(num_permutations):\n",
    "        random_gene_set = random.sample(list(expression.keys()), len(gene_set))\n",
    "        \n",
    "        new_enrichment, score = GSEA(random_gene_set, expression)\n",
    "        enrichment_scores.append(new_enrichment)\n",
    "        \n",
    "    sorted_enrichments = sorted(enrichment_scores, reverse=True)\n",
    "    \n",
    "    for i, value in enumerate(sorted_enrichments):\n",
    "        if value < enrichment:\n",
    "            return i/num_permutations\n",
    "        \n",
    "    return 1"
   ]
  },
  {
   "cell_type": "code",
   "execution_count": null,
   "metadata": {},
   "outputs": [],
   "source": [
    "enrichment, scores = GSEA(gene_sets['demo1'], expression)\n",
    "permute_GSEA(enrichment, gene_set, expression, permutations=10, seed=42)"
   ]
  },
  {
   "cell_type": "code",
   "execution_count": null,
   "metadata": {},
   "outputs": [],
   "source": [
    "import doctest\n",
    "doctest.testmod()"
   ]
  },
  {
   "cell_type": "code",
   "execution_count": null,
   "metadata": {},
   "outputs": [],
   "source": []
  }
 ],
 "metadata": {
  "kernelspec": {
   "display_name": "Python 3",
   "language": "python",
   "name": "python3"
  },
  "language_info": {
   "codemirror_mode": {
    "name": "ipython",
    "version": 3
   },
   "file_extension": ".py",
   "mimetype": "text/x-python",
   "name": "python",
   "nbconvert_exporter": "python",
   "pygments_lexer": "ipython3",
   "version": "3.7.2"
  }
 },
 "nbformat": 4,
 "nbformat_minor": 2
}
