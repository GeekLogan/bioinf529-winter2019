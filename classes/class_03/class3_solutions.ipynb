{
 "cells": [
  {
   "cell_type": "markdown",
   "metadata": {},
   "source": [
    "# Class 3: Pattern matching in sequence"
   ]
  },
  {
   "cell_type": "markdown",
   "metadata": {},
   "source": [
    "---\n",
    "# Before Class\n",
    "Class today is a basic intro into reading files and processing them in Python that will be necessary for the rest of the class.\n",
    "Prior to class, please do the following:\n",
    "1. Install `wget` in your b529 environment using: `$ conda install wget`\n",
    "1. Review the FASTA and GFF formats\n",
    "1. Review or read up on Python syntax for:\n",
    "  1. Reading files using open() and gzip.open()\n",
    "  1. Generators\n",
    "  1. Substrings using slicing\n"
   ]
  },
  {
   "cell_type": "markdown",
   "metadata": {},
   "source": [
    "---\n",
    "## Learning Objectives\n",
    "\n",
    "1. Downloading files programmatically\n",
    "* Read & process FASTA files\n",
    "* Read & process GTF files\n",
    "* Pattern matching"
   ]
  },
  {
   "cell_type": "markdown",
   "metadata": {},
   "source": [
    "---\n",
    "## Background"
   ]
  },
  {
   "cell_type": "markdown",
   "metadata": {},
   "source": [
    "Bacteria use pattern matching in a variety of processes. These include the use of restriction enzymes that cut DNA at exact sequences as well as other factors that allow for more flexibility in the pattern match. A current popular example of this is CRISPR-Cas9 where a 20bp sequence is used to scan the genome and cut DNA. One of the earliest examples of known patterns in bacteria is the Shine-Dalgarno sequence. This pattern was identified in the mid-70s in _E. coli_ where the 3' end of the 16S rRNA sequence was found to recongize a complementary sequence (AGGAGGU) upstream of the start codon (AUG). This sequence has been shown to be important for the initiation of translation by bacterial ribosomes.\n",
    "\n",
    "Our goal today will be to identify genes with the exact matching sequence AGGAGGU in the 50bp upstream of genes in the _Bacillus subtilis_ genome."
   ]
  },
  {
   "cell_type": "markdown",
   "metadata": {},
   "source": [
    "### FASTA Format\n"
   ]
  },
  {
   "cell_type": "markdown",
   "metadata": {},
   "source": [
    "Recall from the lecture slides that the FASTA format (typically with the file extension .fa) has the following format:\n"
   ]
  },
  {
   "cell_type": "raw",
   "metadata": {},
   "source": [
    ">header line typically containing the name, contig, or some other label to identify the sequence`\n",
    "SEQUENCE\n",
    ">sequence 2\n",
    "ATGCAGATGAT\n",
    ">sequence 3\n",
    "GATATG"
   ]
  },
  {
   "cell_type": "markdown",
   "metadata": {},
   "source": [
    "### GFF Format"
   ]
  },
  {
   "cell_type": "markdown",
   "metadata": {},
   "source": [
    "Also recall from the slide that the GFF format (or Generic Feature Format) is used to annotate features in the genome. For our use case here, we will be using an annotation of the genome of _B. subtilis_ from NCBI to identify the locations of coding sequence. GFF has the following format:"
   ]
  },
  {
   "cell_type": "raw",
   "metadata": {},
   "source": [
    "Fields must be tab-separated. Also, all but the final field in each feature line must contain a value; \"empty\" columns should be denoted with a '.'\n",
    "\n",
    "Fields:\n",
    "seqname - name of the chromosome or scaffold\n",
    "source - name of the program that generated this feature, or the data source\n",
    "feature - feature type name, e.g. Gene, Variation, Similarity\n",
    "start - Start position of the feature, with sequence numbering starting at 1\n",
    "end - End position of the feature, with sequence numbering starting at 1\n",
    "score - A floating point value\n",
    "strand - defined as + (forward) or - (reverse)\n",
    "frame - One of '0', '1' or '2'. '0' indicates that the first base of the feature is the first base of a codon, '1' that the second base is the first base of a codon, etc.\n",
    "attribute - A semicolon-separated list of tag-value pairs, providing additional information about each feature\n"
   ]
  },
  {
   "cell_type": "markdown",
   "metadata": {},
   "source": [
    "---\n",
    "## Imports"
   ]
  },
  {
   "cell_type": "code",
   "execution_count": 1,
   "metadata": {},
   "outputs": [],
   "source": [
    "import sys\n",
    "import os\n",
    "import gzip"
   ]
  },
  {
   "cell_type": "markdown",
   "metadata": {},
   "source": [
    "---\n",
    "## Get the data\n"
   ]
  },
  {
   "cell_type": "markdown",
   "metadata": {},
   "source": [
    "Go to NCBI and search for Bacillus subtilis subtilis 168 using the 'Genome' dropdown and copy the links to both the genome and GFF annotation file.\n",
    "\n",
    "Now use `wget` to download the files into the /data/ folder.\n",
    "\n",
    "You will need to install `wget` on your sysytem using `conda install wget`."
   ]
  },
  {
   "cell_type": "markdown",
   "metadata": {},
   "source": [
    "<center><img src='./figures/bsubtilis_screenshot.png'/></center>"
   ]
  },
  {
   "cell_type": "markdown",
   "metadata": {},
   "source": [
    "---\n",
    "## Implement FASTA and GFF reader"
   ]
  },
  {
   "cell_type": "markdown",
   "metadata": {},
   "source": [
    "We first need to build generic functions for handling sequence data (FASTA) and annotations of coordinates on that sequence (GFF). Because the _B. subtilis_ genome fasta file only has a single entry, we have provided an example fasta file to make sure that your code handles multiple sequences appropriately (data/example.fa)."
   ]
  },
  {
   "cell_type": "code",
   "execution_count": 2,
   "metadata": {},
   "outputs": [],
   "source": [
    "#FASTA READER\n",
    "\n",
    "def get_fasta(file):\n",
    "    \"\"\"Generator to lazily get all the fasta entries from a fasta file\n",
    "\n",
    "    Args:\n",
    "        fasta_file (str): /path/and/name/to.fa[.gz] \n",
    "            (file may be gziped)\n",
    "\n",
    "    Yields:\n",
    "        header (str): header sequence of fasta entry (excludes '>')\n",
    "        seq (str): concatenated string sequence of the fasta entry\n",
    "    \"\"\"\n",
    "    \n",
    "    if '.gz' in file:\n",
    "        file_object = gzip.open(file, 'rt')\n",
    "    else:\n",
    "        file_object = open(file, 'rt')\n",
    "        \n",
    "    name=''\n",
    "    seq=''\n",
    "    for line in file_object:\n",
    "        \n",
    "        # Capture the next header, report what we have, and update\n",
    "        if line.startswith('>') and seq: #not first seq\n",
    "            name = name[1:] #removes the carrot\n",
    "            yield name, seq\n",
    "            name=line.strip()\n",
    "            seq=''\n",
    "            \n",
    "        # Get to the first header\n",
    "        elif line.startswith('>'):  #first seq\n",
    "            name=line.strip()\n",
    "            \n",
    "        # Just add sequence if it is the only thing there\n",
    "        else:\n",
    "            seq+=line.strip()\n",
    "            \n",
    "    # At the end, return the last entries\n",
    "    if name and seq: #last seq\n",
    "            name = name[1:]\n",
    "            yield name, seq\n"
   ]
  },
  {
   "cell_type": "code",
   "execution_count": 3,
   "metadata": {},
   "outputs": [
    {
     "name": "stdout",
     "output_type": "stream",
     "text": [
      "seq0 GGCAGATTCCCCCTAGACCCGCCCGCACCATGGTCAGGCATGCCCCTCCTCATCGCTGGGCACAGCCCAGAGGGTATAAACAGTGC\n",
      "seq1 ATGAGAGCCCTCACACTCCTCGCCCTATTGGCCCTGGCCGCACTTTGCATCGCTGGCCAGGCAGGTGAGTGCCCCCACCTCCCCTCAGGCCGCATTGCAGTGGGGGCTGAGAGGAGGA\n",
      "seq2 GAGAGGAGGGAAGAGCAAGCTGCCCGAGACGCAGGGGAAGGAGGATGAGGGCCCTGGGGATGAGCTGGGGTGAACCAGGCTCCCTTTCCTTTGCAGGTGCGA\n"
     ]
    }
   ],
   "source": [
    "#This will test your FASTA READER function\n",
    "\n",
    "#file_name=\"data/GCF_000009045.1_ASM904v1_genomic.fna.gz\"\n",
    "file_name=\"data/example.fa.gz\"\n",
    "for name, seq in get_fasta(file_name):\n",
    "    print (name, seq)"
   ]
  },
  {
   "cell_type": "raw",
   "metadata": {},
   "source": [
    "Expected output from example.fa:\n",
    "seq0 GGCAGATTCCCCCTAGACCCGCCCGCACCATGGTCAGGCATGCCCCTCCTCATCGCTGGGCACAGCCCAGAGGGTATAAACAGTGC\n",
    "seq1 ATGAGAGCCCTCACACTCCTCGCCCTATTGGCCCTGGCCGCACTTTGCATCGCTGGCCAGGCAGGTGAGTGCCCCCACCTCCCCTCAGGCCGCATTGCAGTGGGGGCTGAGAGGAGGA\n",
    "seq2 GAGAGGAGGGAAGAGCAAGCTGCCCGAGACGCAGGGGAAGGAGGATGAGGGCCCTGGGGATGAGCTGGGGTGAACCAGGCTCCCTTTCCTTTGCAGGTGCGA"
   ]
  },
  {
   "cell_type": "code",
   "execution_count": 4,
   "metadata": {},
   "outputs": [],
   "source": [
    "#GFF READER\n",
    "from functools import total_ordering\n",
    "\n",
    "@total_ordering\n",
    "class GffEntry:\n",
    "    \"\"\"Main class for handling GFF entries\n",
    "    \n",
    "    Truncates the GFF entry to required data only. Also, class is totally ordered.\n",
    "    This means that comparison operators can be used on GffEntry objects\n",
    "    \n",
    "    Attributes:\n",
    "        seqid (str): The contig that the GFF entry is associated with\n",
    "        type (str): The type of object that the GFF entry classifies as\n",
    "        start (int): The left-most nucleotide position of the GFF entry relative to seqid (1-indexed)\n",
    "        end (int): The right-most nucleotide position of the GFF entry relative to seqid (1-indexed)\n",
    "        strand (str): Whether the entry is on the forward (+), backward (-) strand or N/A (.)\n",
    "    \"\"\"\n",
    "    \n",
    "    slots = 'seqid type start end strand'.split()\n",
    "    \n",
    "    def __init__(self, args):\n",
    "        \"\"\"Initialize the object.\n",
    "        \n",
    "        Aggregates all GFF entry columns, and selectively assigns them to attributes\n",
    "        \n",
    "        Args:\n",
    "            args (list): the complete stripped and split GFF entry line\n",
    "        \"\"\"\n",
    "        self.seqid = args[0]\n",
    "        self.type = args[2]\n",
    "        self.start = int(args[3])\n",
    "        self.end = int(args[4])\n",
    "        self.strand = args[6]\n",
    "    \n",
    "    def __str__(self):\n",
    "        \"\"\"Determines how GffEntry appear when `print()` is called on them\"\"\"\n",
    "        return f'{self.seqid}\\t{self.type}\\t{self.start}\\t{self.end}\\t{self.strand}'\n",
    "    \n",
    "    def __len__(self):\n",
    "        \"\"\"Determines how GffEntry reports when `len()` is called on them\"\"\"\n",
    "        return self.end - self.start\n",
    "\n",
    "    def __eq__(self, other):\n",
    "        self_check = (self.seqid, self.type, self.start, self.end, self.strand)\n",
    "        other_check = (other.seqid, other.type, other.start, other.end, other.strand)\n",
    "        if  self_check == other_check:\n",
    "            return True\n",
    "    \n",
    "    def __lt__(self, other):\n",
    "        if self.seqid < other.seqid:\n",
    "            return True\n",
    "        elif self.seqid == other.seqid:\n",
    "            if self.start < other.start:\n",
    "                return True\n",
    "            elif self.start == other.start:\n",
    "                if self.end < other.end:\n",
    "                    return True\n",
    "        \n",
    "\n",
    "def get_gff(gff_file):\n",
    "    \"\"\"Generator that lazily reports each of the GFF entries within the GFF file\n",
    "    \n",
    "    Args:\n",
    "        gff_file (str): /path/and/name/to.gff[.gz]\n",
    "    \n",
    "    Yields:\n",
    "        (GffEntry): A GFF entry object with the attributes of seqid, type, start, end, and strand\n",
    "    \"\"\"\n",
    "    if '.gz' in gff_file:\n",
    "        gff_file = gzip.open(gff_file, 'rb')\n",
    "    else:\n",
    "        gff_file = open(gff_file, 'rb')\n",
    "    for entry in gff_file:\n",
    "        entry = entry.decode('ascii')\n",
    "        if entry.startswith('#') or not entry:\n",
    "            continue\n",
    "        yield GffEntry(entry.strip().split('\\t'))\n",
    "        "
   ]
  },
  {
   "cell_type": "code",
   "execution_count": null,
   "metadata": {},
   "outputs": [],
   "source": [
    "#This will test your GFF READER function\n",
    "file_name=\"data/GCF_000009045.1_ASM904v1_genomic.gff.gz\"\n",
    "for gff_entry in get_gff(file_name):\n",
    "    print(gff_entry)\n"
   ]
  },
  {
   "cell_type": "markdown",
   "metadata": {},
   "source": [
    "---\n",
    "## Extract promoter regions"
   ]
  },
  {
   "cell_type": "markdown",
   "metadata": {},
   "source": [
    "Given a geneome and a list of genes, we are interested in studying the promoter regions. We now need to write a function for extracting sequence from genomic coordinates. Specifically, we would like to extract the 50bp upstream of the TSS for every gene. Because we are looking for the region upstream of the TSS, use the 'CDS' annotation from the GFF file. Remember that for genes on the - strand you will need to take the reverse complement! "
   ]
  },
  {
   "cell_type": "code",
   "execution_count": 6,
   "metadata": {},
   "outputs": [],
   "source": [
    "def reverse_complement(seq):\n",
    "    \"\"\"Get the reverse complement of a nucleotide sequence\n",
    "\n",
    "    Returns the reverse complement of the input string representing a DNA \n",
    "    sequence. Works only with DNA sequences consisting solely of  A, C, G, T or N \n",
    "    characters. Preserves the case of the input sequence.\n",
    "\n",
    "    Args:\n",
    "        seq (str): a DNA sequence string\n",
    "\n",
    "    Returns:\n",
    "        (str): The reverse complement of the input DNA sequence string.\n",
    "    \"\"\"\n",
    "    \n",
    "    # Used to easily translate strings\n",
    "    compStrDNA = str.maketrans('ACGTacgt', 'TGCAtcga')\n",
    "\n",
    "    # Translate then reverse seq\n",
    "    return seq.translate(compStrDNA)[::-1]\n"
   ]
  },
  {
   "cell_type": "code",
   "execution_count": 7,
   "metadata": {},
   "outputs": [],
   "source": [
    "def get_seq(seq, start, end, strand, size):\n",
    "    \"\"\"Get the desired sub sequence from genomic coordinates\n",
    "    \n",
    "    Args:\n",
    "        seq (str): nucleotide sequence\n",
    "        start (int): left-most desired nucleotide sequence\n",
    "        end (int): right-most desired nucleotide sequence\n",
    "        strand (str): Whether the entry is on the forward (+), backward (-) strand or N/A (.)\n",
    "        size (int): how far upstream to get extra sequence (default: 50)\n",
    "    \n",
    "    Returns:\n",
    "        promoter_seq (str): the desired sub-sequence of seq at coordinates start-end corrected to + strand\n",
    "    \"\"\"\n",
    "    promoter_seq = ''\n",
    "\n",
    "    if strand == '-':\n",
    "        promoter_seq = reverse_complement(seq[end:(end+size)])\n",
    "    else :\n",
    "        promoter_seq = seq[(start-size-1):(start-1)]\n",
    "\n",
    "    return promoter_seq\n"
   ]
  },
  {
   "cell_type": "code",
   "execution_count": null,
   "metadata": {},
   "outputs": [],
   "source": [
    "# Now for the sequence from our genome, we will output the promoter sequences from each region\n",
    "\n",
    "seq_file=\"data/GCF_000009045.1_ASM904v1_genomic.fna.gz\"\n",
    "gff_file=\"data/GCF_000009045.1_ASM904v1_genomic.gff.gz\"\n",
    "\n",
    "for name, seq in get_fasta(seq_file):\n",
    "    for gff_entry in get_gff(gff_file):\n",
    "        if gff_entry.type == 'CDS':\n",
    "            promoter_seq = get_seq(seq, gff_entry.start, gff_entry.end, gff_entry.strand, 50)\n",
    "            print (promoter_seq)\n",
    "\n"
   ]
  },
  {
   "cell_type": "markdown",
   "metadata": {},
   "source": [
    "---\n",
    "## Use pattern matching to locate Shine-Dalgarno sequences"
   ]
  },
  {
   "cell_type": "markdown",
   "metadata": {},
   "source": [
    "Finally, we will do very basic pattern matching using regular expressions. Using the previously implemented code, count how many of the regions have the Shine-Dalgarno sequences in the promoter (AGGAGGT). Note: You have the option of using the RE (Regular Expressions) package here to describe more complex patterns than a simple string."
   ]
  },
  {
   "cell_type": "code",
   "execution_count": 9,
   "metadata": {},
   "outputs": [
    {
     "name": "stdout",
     "output_type": "stream",
     "text": [
      "212 4328\n"
     ]
    }
   ],
   "source": [
    "seq_file=\"data/GCF_000009045.1_ASM904v1_genomic.fna.gz\"\n",
    "gff_file=\"data/GCF_000009045.1_ASM904v1_genomic.gff.gz\"\n",
    "\n",
    "hits = 0\n",
    "total = 0\n",
    "\n",
    "for name, seq in get_fasta(seq_file):\n",
    "    for gff_entry in get_gff(gff_file):\n",
    "        if gff_entry.type == 'CDS':\n",
    "            promoter_seq = get_seq(seq, gff_entry.start, gff_entry.end, gff_entry.strand, 50)\n",
    "            if \"AGGAGGT\" in promoter_seq:\n",
    "                hits+=1\n",
    "            total+=1\n",
    "\n",
    "print (hits, total)\n"
   ]
  },
  {
   "cell_type": "raw",
   "metadata": {},
   "source": [
    "Expected output:\n",
    "    212 out of 4328 "
   ]
  }
 ],
 "metadata": {
  "kernelspec": {
   "display_name": "Python 3",
   "language": "python",
   "name": "python3"
  },
  "language_info": {
   "codemirror_mode": {
    "name": "ipython",
    "version": 3
   },
   "file_extension": ".py",
   "mimetype": "text/x-python",
   "name": "python",
   "nbconvert_exporter": "python",
   "pygments_lexer": "ipython3",
   "version": "3.7.1"
  }
 },
 "nbformat": 4,
 "nbformat_minor": 2
}
