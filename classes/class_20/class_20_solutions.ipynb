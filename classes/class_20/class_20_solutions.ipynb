{
 "cells": [
  {
   "cell_type": "markdown",
   "metadata": {},
   "source": [
    "# Class : Genomic analysis on intervals & Genome Browsers"
   ]
  },
  {
   "cell_type": "markdown",
   "metadata": {},
   "source": [
    "---\n",
    "## Before Class\n",
    "1. Install bedtools and pybedtools: `conda install pybedtools` - this installs both\n",
    "* Review bedtools documentation ( https://bedtools.readthedocs.io/en/latest/ )\n",
    "* Review pybedtools documentation ( https://daler.github.io/pybedtools/ )\n",
    "\n",
    "---\n",
    "## Learning Objectives\n",
    "\n",
    "1. Performing operations on intervals using bedtools and pybedtools\n",
    "* Use and understanding of the UCSC Genome Browser"
   ]
  },
  {
   "cell_type": "markdown",
   "metadata": {},
   "source": [
    "---\n",
    "## Background\n",
    "\n",
    "In previous class, we identified eQTLs (expression quantitative trait loci) which are associated with gene expression levels. To further explore whether they are causative of the expression change and make hypothesis about the potential mechanisms, we can intersect the eQTLs with genomic features from other assays: e.g. DNase I hypersensitive site (DHS) which basically represents the open chromatin regions, chromHMM state which learns and characterizes chromatin states.\n",
    "\n",
    "In today's class, we will first use *bedtools* and *pybedtools* to intersect eQTL variants with DHS and chromHMM state. Then we will pick one potentailly functional variant and view other genomic features around this variant through the UCSC genome browser.\n"
   ]
  },
  {
   "cell_type": "markdown",
   "metadata": {},
   "source": [
    "---\n",
    "## Operations on Intervals\n",
    "\n",
    "We will be using eQTLs from the Genotype-Tissue Expression (GTEx) project (https://gtexportal.org) in today's class. We have converted the orginal text file to bed file format, and randomly selected 100 variants on chromosome 22 from liver tissue for simplicity.\n",
    "\n",
    "Take a look at the variant file: `eQTL_variants.bed`"
   ]
  },
  {
   "cell_type": "code",
   "execution_count": null,
   "metadata": {},
   "outputs": [],
   "source": [
    "!head data/eQTL_variants.bed"
   ]
  },
  {
   "cell_type": "markdown",
   "metadata": {},
   "source": [
    "Column names: chromosome, start position, end position, reference allele, alternative allele, gene ID of associated gene "
   ]
  },
  {
   "cell_type": "markdown",
   "metadata": {},
   "source": [
    "We also provided other two bed files of genomic features we want to intersect with the variants:\n",
    "\n",
    "DHS (DNase I hypersensitive site): `HepG2_DHS.bed`"
   ]
  },
  {
   "cell_type": "code",
   "execution_count": null,
   "metadata": {},
   "outputs": [],
   "source": [
    "!head data/HepG2_DHS.bed"
   ]
  },
  {
   "cell_type": "markdown",
   "metadata": {},
   "source": [
    "chromHMM state: `Liver_chromHMM.bed`"
   ]
  },
  {
   "cell_type": "code",
   "execution_count": null,
   "metadata": {},
   "outputs": [],
   "source": [
    "!head data/Liver_chromHMM.bed"
   ]
  },
  {
   "cell_type": "markdown",
   "metadata": {},
   "source": [
    "You can find the description of each chromatin state in last column from `Mnemonic_key.txt`"
   ]
  },
  {
   "cell_type": "markdown",
   "metadata": {},
   "source": [
    "---\n",
    "### bedtools\n",
    "*bedtools* is a powerful toolset to perform operations on intervals, especially when you are working with large data such as human genome. \n",
    "\n",
    "`intersect` is the most commonly used command for *bedtools* (https://bedtools.readthedocs.io/en/latest/content/tools/intersect.html), which compares two or more input files, and identifies all the overlapping regions.\n",
    "\n",
    "<img src = \"figures/bedtools_intersect.png\">"
   ]
  },
  {
   "cell_type": "code",
   "execution_count": null,
   "metadata": {},
   "outputs": [],
   "source": [
    "#Take a look at the usage information for bedtools intersect command.\n",
    "#Note the input file formats and the different options for output.\n",
    "! bedtools intersect --help"
   ]
  },
  {
   "cell_type": "code",
   "execution_count": null,
   "metadata": {},
   "outputs": [],
   "source": [
    "#We can identify the variants overlapping DHS in our files with:\n",
    "#bedtools -a <variant bed file> -b <DHS bed file>\n",
    "! bedtools intersect -a data/eQTL_variants.bed -b data/HepG2_DHS.bed\n",
    "#You should see four variants in output"
   ]
  },
  {
   "cell_type": "code",
   "execution_count": null,
   "metadata": {},
   "outputs": [],
   "source": [
    "#Try adding other options to your command (e.g. -wb/-wo/-c), see how it will change your output:\n",
    "#For example:\n",
    "! bedtools intersect -a data/eQTL_variants.bed -b data/HepG2_DHS.bed -wb"
   ]
  },
  {
   "cell_type": "markdown",
   "metadata": {},
   "source": [
    "---\n",
    "### pybedtools\n",
    "*pybedtools* is a python library which extends upon the *bedtools* suite with an intuitive python interface.\n"
   ]
  },
  {
   "cell_type": "code",
   "execution_count": 1,
   "metadata": {},
   "outputs": [],
   "source": [
    "from pybedtools import BedTool"
   ]
  },
  {
   "cell_type": "markdown",
   "metadata": {},
   "source": [
    "After importing *pybedtools*, we can create a `BedTool` object for each bed file:"
   ]
  },
  {
   "cell_type": "code",
   "execution_count": 2,
   "metadata": {},
   "outputs": [],
   "source": [
    "variants = BedTool('data/eQTL_variants.bed')\n",
    "DHS = BedTool('data/HepG2_DHS.bed')\n",
    "chromHMM = BedTool('data/Liver_chromHMM.bed')"
   ]
  },
  {
   "cell_type": "markdown",
   "metadata": {},
   "source": [
    "Then we can do intersection with the `intersect()` method: https://daler.github.io/pybedtools/intersections.html"
   ]
  },
  {
   "cell_type": "markdown",
   "metadata": {},
   "source": [
    "#### Identify variants overlapping DHS"
   ]
  },
  {
   "cell_type": "code",
   "execution_count": 3,
   "metadata": {},
   "outputs": [
    {
     "name": "stdout",
     "output_type": "stream",
     "text": [
      "chr22\t29470114\t29470115\tA\tG\tENSG00000183762.8\n",
      "chr22\t36861319\t36861320\tC\tT\tENSG00000100350.10\n",
      "chr22\t42510982\t42510983\tC\tG\tENSG00000227370.1\n",
      "chr22\t50675647\t50675648\tC\tA\tENSG00000170638.5\n",
      "\n"
     ]
    }
   ],
   "source": [
    "#Create a BedTool object variants_within_DHS here:\n",
    "variants_within_DHS = variants.intersect(DHS)\n",
    "print (variants_within_DHS)"
   ]
  },
  {
   "cell_type": "markdown",
   "metadata": {},
   "source": [
    "We want to further find out the chromatin states of these variants overlapping DHS:\n",
    "\n",
    "Hint: you can add options from *bedtools* by setting them as true in arg (e.g. `wb=True`);"
   ]
  },
  {
   "cell_type": "code",
   "execution_count": 4,
   "metadata": {},
   "outputs": [
    {
     "name": "stdout",
     "output_type": "stream",
     "text": [
      "chr22\t29470114\t29470115\tA\tG\tENSG00000183762.8\tchr22\t29469400\t29470400\t2_TssAFlnk\n",
      "chr22\t36861319\t36861320\tC\tT\tENSG00000100350.10\tchr22\t36861200\t36862000\t7_Enh\n",
      "chr22\t42510982\t42510983\tC\tG\tENSG00000227370.1\tchr22\t42510600\t42512200\t9_Het\n",
      "chr22\t50675647\t50675648\tC\tA\tENSG00000170638.5\tchr22\t50675400\t50676000\t6_EnhG\n",
      "\n"
     ]
    }
   ],
   "source": [
    "#Print the chromatin states here:\n",
    "print (variants_within_DHS.intersect(chromHMM,wb=True))"
   ]
  },
  {
   "cell_type": "markdown",
   "metadata": {},
   "source": [
    "#### Identify variants overlapping enhancers"
   ]
  },
  {
   "cell_type": "markdown",
   "metadata": {},
   "source": [
    "Now try identifying variants in enhancer regions (i.e. overlapping with regions labeled as \"7_Enh\" in `Liver_chromHMM.bed`)\n",
    "\n",
    "Hint: check out the filter method: https://daler.github.io/pybedtools/filtering.html"
   ]
  },
  {
   "cell_type": "code",
   "execution_count": 5,
   "metadata": {},
   "outputs": [
    {
     "name": "stdout",
     "output_type": "stream",
     "text": [
      "chr22\t19814170\t19814171\tC\tT\tENSG00000232926.1\n",
      "chr22\t24251516\t24251517\tC\tT\tENSG00000099977.9\n",
      "chr22\t36861319\t36861320\tC\tT\tENSG00000100350.10\n",
      "chr22\t42396149\t42396150\tG\tA\tENSG00000213790.2\n",
      "chr22\t42538398\t42538399\tC\tT\tENSG00000270083.1\n",
      "chr22\t46660667\t46660668\tC\tT\tENSG00000075234.12\n",
      "chr22\t50966633\t50966634\tG\tT\tENSG00000130489.8\n",
      "\n"
     ]
    }
   ],
   "source": [
    "##Create a new BedTool object variants_within_Enh here:\n",
    "chromHMM_Enh = chromHMM.filter(lambda x: x[3] == '7_Enh')\n",
    "variants_within_Enh = variants.intersect(chromHMM_Enh)\n",
    "print (variants_within_Enh)"
   ]
  },
  {
   "cell_type": "markdown",
   "metadata": {},
   "source": [
    "#### Some (maybe) more challenging tasks:\n",
    "1. How many variants are there in each chromatin state?"
   ]
  },
  {
   "cell_type": "code",
   "execution_count": 6,
   "metadata": {},
   "outputs": [
    {
     "data": {
      "text/plain": [
       "Counter({'7_Enh': 7,\n",
       "         '4_Tx': 11,\n",
       "         '15_Quies': 32,\n",
       "         '1_TssA': 1,\n",
       "         '14_ReprPCWk': 8,\n",
       "         '9_Het': 4,\n",
       "         '5_TxWk': 30,\n",
       "         '6_EnhG': 5,\n",
       "         '2_TssAFlnk': 2})"
      ]
     },
     "execution_count": 6,
     "metadata": {},
     "output_type": "execute_result"
    }
   ],
   "source": [
    "from collections import Counter\n",
    "variants_chromHMM= variants.intersect(chromHMM,wb=True)\n",
    "chromHMM_count = Counter()\n",
    "for variant in variants_chromHMM:\n",
    "    chromHMM_count[variant[9]] += 1\n",
    "chromHMM_count"
   ]
  },
  {
   "cell_type": "markdown",
   "metadata": {},
   "source": [
    "2. What's the average distance between the variants and their nearest exons? (Hint: check out the closest method, you will also need the gff file `Homo_sapiens.GRCh37.87.chromosome.22.gff3.gz`)"
   ]
  },
  {
   "cell_type": "markdown",
   "metadata": {},
   "source": [
    "**Clarification**: the original gff file we provided has inconsistent naming convention with the bed file of variants (the first column was '22' instead of 'chr22'), which will cause errors for bedtools. The gff3 file has been updated, make sure you are using the latest version and sorry for the confusion."
   ]
  },
  {
   "cell_type": "code",
   "execution_count": 7,
   "metadata": {},
   "outputs": [
    {
     "name": "stdout",
     "output_type": "stream",
     "text": [
      "1730.096256684492\n"
     ]
    }
   ],
   "source": [
    "genes = BedTool('data/Homo_sapiens.GRCh37.87.chromosome.22.gff3.gz')\n",
    "exons = genes.filter(lambda x: x[2] == 'exon') #we only need annotations of exons\n",
    "\n",
    "closest_exons = variants.closest(exons, d=True) #set d=True to output the distance\n",
    "\n",
    "distances = []\n",
    "for exon in closest_exons:\n",
    "    distances.append(int(exon[-1]))  #the last column is the distance between variant and the closest exon \n",
    "\n",
    "average_distance = sum(distances)/len(distances)\n",
    "print (average_distance)"
   ]
  },
  {
   "cell_type": "markdown",
   "metadata": {},
   "source": [
    "---\n",
    "## UCSC Genome Browser\n",
    "Now let's pick the variant within DHS and in enhancer state: chr22:36861319-36861320, we can explore more genomic features around this variant through UCSC genome browser. You can find some helpful screenshots under `figures/UCSC_genome_browser.pdf`.\n",
    "1. Go to https://genome.ucsc.edu/, choose Human GRCh37/hg19 build.\n",
    "* Search for the varaint chr22:36861319-36861320.\n",
    "* Explore information from different tracks, for examples:\n",
    "  * ENCODE Regulation -> What are the ChIP-seq peaks around this variant?\n",
    "  * Conservation -> What does the conservation score imply?"
   ]
  }
 ],
 "metadata": {
  "kernelspec": {
   "display_name": "Python 3",
   "language": "python",
   "name": "python3"
  },
  "language_info": {
   "codemirror_mode": {
    "name": "ipython",
    "version": 3
   },
   "file_extension": ".py",
   "mimetype": "text/x-python",
   "name": "python",
   "nbconvert_exporter": "python",
   "pygments_lexer": "ipython3",
   "version": "3.7.2"
  }
 },
 "nbformat": 4,
 "nbformat_minor": 2
}
