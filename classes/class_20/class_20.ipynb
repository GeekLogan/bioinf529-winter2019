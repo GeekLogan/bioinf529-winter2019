{
 "cells": [
  {
   "cell_type": "markdown",
   "metadata": {},
   "source": [
    "# Class : Genomic analysis on intervals & Genome Browsers"
   ]
  },
  {
   "cell_type": "markdown",
   "metadata": {},
   "source": [
    "---\n",
    "## Before Class\n",
    "1. Install bedtools and pybedtools: `conda install pybedtools` - this installs both\n",
    "* Review bedtools documentation ( https://bedtools.readthedocs.io/en/latest/ )\n",
    "* Review pybedtools documentation ( https://daler.github.io/pybedtools/ )\n",
    "\n",
    "---\n",
    "## Learning Objectives\n",
    "\n",
    "1. Performing operations on intervals using bedtools and pybedtools\n",
    "* Use and understanding of the UCSC Genome Browser"
   ]
  },
  {
   "cell_type": "markdown",
   "metadata": {},
   "source": [
    "---\n",
    "## Background\n",
    "\n",
    "In previous class, we identified eQTLs (expression quantitative trait loci) which are associated with gene expression levels. To further explore whether they are causative of the expression change and make hypothesis about the potential mechanisms, we can intersect the eQTLs with genomic features from other assays: e.g. DNase I hypersensitive site (DHS) which basically represents the open chromatin regions, chromHMM state which learns and characterizes chromatin states.\n",
    "\n",
    "In today's class, we will first use *bedtools* and *pybedtools* to intersect eQTL variants with DHS and chromHMM state. Then we will pick one potentailly functional variant and view other genomic features around this variant through the UCSC genome browser.\n"
   ]
  },
  {
   "cell_type": "markdown",
   "metadata": {},
   "source": [
    "---\n",
    "## Operations on Intervals\n",
    "\n",
    "We will be using eQTLs from the Genotype-Tissue Expression (GTEx) project (https://gtexportal.org) in today's class. We have converted the orginal text file to bed file format, and randomly selected 100 variants on chromosome 22 from liver tissue for simplicity.\n",
    "\n",
    "Take a look at the variant file: `eQTL_variants.bed`"
   ]
  },
  {
   "cell_type": "code",
   "execution_count": null,
   "metadata": {},
   "outputs": [],
   "source": [
    "!head data/eQTL_variants.bed"
   ]
  },
  {
   "cell_type": "markdown",
   "metadata": {},
   "source": [
    "Column names: chromosome, start position, end position, reference allele, alternative allele, gene ID of associated gene "
   ]
  },
  {
   "cell_type": "markdown",
   "metadata": {},
   "source": [
    "We also provided other two bed files of genomic features we want to intersect with the variants:\n",
    "\n",
    "DHS (DNase I hypersensitive site): `HepG2_DHS.bed`"
   ]
  },
  {
   "cell_type": "code",
   "execution_count": null,
   "metadata": {},
   "outputs": [],
   "source": [
    "!head data/HepG2_DHS.bed"
   ]
  },
  {
   "cell_type": "markdown",
   "metadata": {},
   "source": [
    "chromHMM state: `Liver_chromHMM.bed`"
   ]
  },
  {
   "cell_type": "code",
   "execution_count": null,
   "metadata": {},
   "outputs": [],
   "source": [
    "!head data/Liver_chromHMM.bed"
   ]
  },
  {
   "cell_type": "markdown",
   "metadata": {},
   "source": [
    "You can find the description of each chromatin state in last column from `Mnemonic_key.txt`"
   ]
  },
  {
   "cell_type": "markdown",
   "metadata": {},
   "source": [
    "---\n",
    "### bedtools\n",
    "*bedtools* is a powerful toolset to perform operations on intervals, especially when you are working with large data such as human genome. \n",
    "\n",
    "`intersect` is the most commonly used command for *bedtools* (https://bedtools.readthedocs.io/en/latest/content/tools/intersect.html), which compares two or more input files, and identifies all the overlapping regions.\n",
    "\n",
    "<img src = \"figures/bedtools_intersect.png\">"
   ]
  },
  {
   "cell_type": "code",
   "execution_count": null,
   "metadata": {},
   "outputs": [],
   "source": [
    "#Take a look at the usage information for bedtools intersect command.\n",
    "#Note the input file formats and the different options for output.\n",
    "! bedtools intersect --help"
   ]
  },
  {
   "cell_type": "code",
   "execution_count": null,
   "metadata": {},
   "outputs": [],
   "source": [
    "#We can identify the variants overlapping DHS in our files with:\n",
    "#bedtools -a <variant bed file> -b <DHS bed file>\n",
    "! bedtools intersect -a data/eQTL_variants.bed -b data/HepG2_DHS.bed\n",
    "#You should see four variants in output"
   ]
  },
  {
   "cell_type": "code",
   "execution_count": null,
   "metadata": {},
   "outputs": [],
   "source": [
    "#Try adding other options to your command (e.g. -wb/-wo/-c), see how it will change your output:\n",
    "#For example:\n",
    "! bedtools intersect -a data/eQTL_variants.bed -b data/HepG2_DHS.bed -wb"
   ]
  },
  {
   "cell_type": "markdown",
   "metadata": {},
   "source": [
    "---\n",
    "### pybedtools\n",
    "*pybedtools* is a python library which extends upon the *bedtools* suite with an intuitive python interface.\n"
   ]
  },
  {
   "cell_type": "code",
   "execution_count": null,
   "metadata": {},
   "outputs": [],
   "source": [
    "from pybedtools import BedTool"
   ]
  },
  {
   "cell_type": "markdown",
   "metadata": {},
   "source": [
    "After importing *pybedtools*, we can create a `BedTool` object for each bed file:"
   ]
  },
  {
   "cell_type": "code",
   "execution_count": null,
   "metadata": {},
   "outputs": [],
   "source": [
    "variants = BedTool('data/eQTL_variants.bed')\n",
    "DHS = BedTool('data/HepG2_DHS.bed')\n",
    "chromHMM = BedTool('data/Liver_chromHMM.bed')"
   ]
  },
  {
   "cell_type": "markdown",
   "metadata": {},
   "source": [
    "Then we can do intersection with the `intersect()` method: https://daler.github.io/pybedtools/intersections.html"
   ]
  },
  {
   "cell_type": "markdown",
   "metadata": {},
   "source": [
    "#### Identify variants overlapping DHS"
   ]
  },
  {
   "cell_type": "code",
   "execution_count": null,
   "metadata": {},
   "outputs": [],
   "source": [
    "#Create a BedTool object variants_within_DHS here:"
   ]
  },
  {
   "cell_type": "markdown",
   "metadata": {},
   "source": [
    "We want to further find out the chromatin states of these variants overlapping DHS:\n",
    "\n",
    "Hint: you can add options from *bedtools* by setting them as true in arg (e.g. `wb=True`);"
   ]
  },
  {
   "cell_type": "code",
   "execution_count": null,
   "metadata": {},
   "outputs": [],
   "source": [
    "#Print the chromatin states here:"
   ]
  },
  {
   "cell_type": "markdown",
   "metadata": {},
   "source": [
    "#### Identify variants overlapping enhancers"
   ]
  },
  {
   "cell_type": "markdown",
   "metadata": {},
   "source": [
    "Now try identifying variants in enhancer regions (i.e. overlapping with regions labeled as \"7_Enh\" in `Liver_chromHMM.bed`)\n",
    "\n",
    "Hint: check out the filter method: https://daler.github.io/pybedtools/filtering.html"
   ]
  },
  {
   "cell_type": "code",
   "execution_count": null,
   "metadata": {},
   "outputs": [],
   "source": [
    "##Create a new BedTool object variants_within_Enh here:"
   ]
  },
  {
   "cell_type": "markdown",
   "metadata": {},
   "source": [
    "#### Some (maybe) more challenging tasks:\n",
    "1. How many variants are there in each chromatin state?\n",
    "\n",
    "* What's the average distance between the variants and their nearest exons? (Hint: check out the closest method, you will also need the gff file `Homo_sapiens.GRCh37.87.chromosome.22.gff3.gz`)"
   ]
  },
  {
   "cell_type": "markdown",
   "metadata": {},
   "source": [
    "---\n",
    "## UCSC Genome Browser\n",
    "Now let's pick the variant within DHS and in enhancer state: chr22:36861319-36861320, we can explore more genomic features around this variant through UCSC genome browser. You can find some helpful screenshots under `figures/UCSC_genome_browser.pdf`.\n",
    "1. Go to https://genome.ucsc.edu/, choose Human GRCh37/hg19 build.\n",
    "* Search for the varaint chr22:36861319-36861320.\n",
    "* Explore information from different tracks, for examples:\n",
    "  * ENCODE Regulation -> What are the ChIP-seq peaks around this variant?\n",
    "  * Conservation -> What does the conservation score imply?"
   ]
  }
 ],
 "metadata": {
  "kernelspec": {
   "display_name": "Python 3",
   "language": "python",
   "name": "python3"
  },
  "language_info": {
   "codemirror_mode": {
    "name": "ipython",
    "version": 3
   },
   "file_extension": ".py",
   "mimetype": "text/x-python",
   "name": "python",
   "nbconvert_exporter": "python",
   "pygments_lexer": "ipython3",
   "version": "3.7.2"
  }
 },
 "nbformat": 4,
 "nbformat_minor": 2
}
