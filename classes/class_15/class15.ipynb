{
 "cells": [
  {
   "cell_type": "markdown",
   "metadata": {},
   "source": [
    "# Class : Short-read mapping - Burrows-Wheeler Transform 1"
   ]
  },
  {
   "cell_type": "markdown",
   "metadata": {},
   "source": [
    "---\n",
    "\n",
    "## Before Class\n",
    "\n",
    "Prior to class, please do the following:\n",
    "\n",
    "1. Review Burrows-Wheeler Transform\n",
    "2. Familiarize yourself with sort operator"
   ]
  },
  {
   "cell_type": "markdown",
   "metadata": {},
   "source": [
    "---\n",
    "## Learning Objectives\n",
    "\n",
    "1. Implement Burrows-Wheeler Transform to calculate BWT string and suffix array.\n"
   ]
  },
  {
   "cell_type": "markdown",
   "metadata": {},
   "source": [
    "---\n",
    "## Background\n",
    "\n",
    "Today we will be building a Burrows-Wheeler transfor and a suffix array for a string as described in the lecture notes.\n",
    "\n",
    "To generate a BWT matrix, we append \\$ to a string, perform all rotations to build a matrix, sort lexographically, and return the last column:\n",
    "\n",
    "```\n",
    "BWT(T):\n",
    "    Append $ to T\n",
    "    Build matrix of all rotations of T\n",
    "    sort matrix\n",
    "    return last column of matrix\n",
    "```\n",
    "    \n",
    "We also need to calculate the suffix array for the string. This will be required for when we use BWT for string matching in the next class. To generate a suffix array for a string:\n",
    "```\n",
    "suffix_array(T):\n",
    "    Append $ to T\n",
    "    build matrix of all rotations of T with row index i\n",
    "    sort i by lexographic sorting of rotation matrix\n",
    "    return i\n",
    "```\n",
    "\n"
   ]
  },
  {
   "cell_type": "markdown",
   "metadata": {},
   "source": [
    "---\n",
    "## Burrows-Wheeler Transform\n",
    "\n"
   ]
  },
  {
   "cell_type": "code",
   "execution_count": 61,
   "metadata": {},
   "outputs": [],
   "source": [
    "#function to caculate BWT string\n",
    "def BWT(string):\n",
    "    ''' Function to calculate Burrows-Wheeler Transform for a given string.\n",
    "    \n",
    "    Args:\n",
    "        string (str): Input string\n",
    "    \n",
    "    Returns:\n",
    "        bwt_string (str): BWT string        \n",
    "        \n",
    "    Example:\n",
    "        >>> BWT('googol')\n",
    "        'lo$oogg'\n",
    "        \n",
    "    '''\n",
    "    string += '$'\n",
    "    string = sorted( string[i:]+string[:i] for i,a in enumerate(string) )\n",
    "    \n",
    "    return ''.join( a[-1] for a in string )"
   ]
  },
  {
   "cell_type": "code",
   "execution_count": 30,
   "metadata": {},
   "outputs": [],
   "source": [
    "#function to caculate suffix array\n",
    "def suffix_array(string):\n",
    "    ''' Function to calculate suffix-array for a given string.\n",
    "    \n",
    "    Args:\n",
    "        string (str): Input string\n",
    "    \n",
    "    Returns:\n",
    "        sa (array of integers): suffix array\n",
    "        \n",
    "    Example:\n",
    "    >>> suffix_array('googol')\n",
    "    [6, 3, 0, 5, 2, 4, 1]\n",
    "        \n",
    "    '''\n",
    "    string += '$'\n",
    "    string = sorted( ( (string[i:]+string[:i],i) for i,a in enumerate(string) ), key=lambda x: x[0] )\n",
    "    \n",
    "    return [ a[1] for a in string ]"
   ]
  },
  {
   "cell_type": "code",
   "execution_count": 31,
   "metadata": {},
   "outputs": [
    {
     "data": {
      "text/plain": [
       "TestResults(failed=0, attempted=2)"
      ]
     },
     "execution_count": 31,
     "metadata": {},
     "output_type": "execute_result"
    }
   ],
   "source": [
    "import doctest\n",
    "doctest.testmod()"
   ]
  },
  {
   "cell_type": "markdown",
   "metadata": {},
   "source": [
    "---\n",
    "If you finish the two functions above, you can start working on another two functions we will use in the next class for string matching.\n",
    "\n",
    "## Background\n",
    "One of the key parts for string matching is to do Last-to-First column mapping (LF mapping) within the BWT matrix. With the LF property, we  need to build two dictionaries for our reference string beforehand:\n",
    "1. count: e.g.  `{'A': 0, 'C': 2, 'G': 3, 'T': 5}`\n",
    "\n",
    "Where for each character `a` in a string, `count[a]` contains the number of characters in string that are lexicographically smaller than `a`.\n",
    "\n",
    "\n",
    "2. occur: e.g. `{'$': [0, 0, 1, 1, 1], 'A': [1, 1, 1, 1, 1], 'C': [0, 0, 0, 1, 1], 'G': [0, 1, 1, 1, 2]}`\n",
    "\n",
    "For each character `a` in a bwt string, `occur[a][i]` contains the number of occurences of `a` in `bwt_string[0,i], i=1,...,len(bwt_string)` (i.e. the first i characters in bwt string)."
   ]
  },
  {
   "cell_type": "markdown",
   "metadata": {},
   "source": [
    "---\n",
    "## Imports"
   ]
  },
  {
   "cell_type": "code",
   "execution_count": 34,
   "metadata": {},
   "outputs": [],
   "source": [
    "from collections import Counter"
   ]
  },
  {
   "cell_type": "code",
   "execution_count": 2,
   "metadata": {},
   "outputs": [],
   "source": [
    "#function to build count dictionary\n",
    "def cal_count(string):\n",
    "    '''Function to count the number of characters in string that \n",
    "        are lexicographically smaller than a given character\n",
    "    \n",
    "    Args:\n",
    "        string (str): Input string\n",
    "    \n",
    "    Returns:\n",
    "        count (dict)\n",
    "    \n",
    "    Example:\n",
    "        >>> cal_count('ATGACG')\n",
    "        {'A': 0, 'C': 2, 'G': 3, 'T': 5}\n",
    "    '''\n",
    "    \n",
    "    # note: sorting below only required to pass the doctest\n",
    "    return { key:sum( 1 for i in string if i < key ) for key in sorted( set( string ) ) }"
   ]
  },
  {
   "cell_type": "code",
   "execution_count": 3,
   "metadata": {},
   "outputs": [
    {
     "name": "stdout",
     "output_type": "stream",
     "text": [
      "12 µs ± 714 ns per loop (mean ± std. dev. of 7 runs, 100000 loops each)\n"
     ]
    }
   ],
   "source": [
    "%%timeit\n",
    "\n",
    "cal_count( 'AAAAATTTTTCCCCCGGGGGCCCCCTTTTTCCCCCAAAAA' )"
   ]
  },
  {
   "cell_type": "code",
   "execution_count": 55,
   "metadata": {},
   "outputs": [],
   "source": [
    "#function to build occur dictionary\n",
    "def cal_occur(bwt_string):\n",
    "    '''Function to calculate number of occurrences of each character \n",
    "        in bwt [0,i], i=1,...,len(bwt_string)\n",
    "    \n",
    "    Args:\n",
    "        b (str): BWT string\n",
    "    \n",
    "    Returns:\n",
    "        occur (dict of arrays)\n",
    "    \n",
    "    Example:\n",
    "        >>> cal_occur('AG$CG')\n",
    "        {'$': [0, 0, 1, 1, 1], 'A': [1, 1, 1, 1, 1], 'C': [0, 0, 0, 1, 1], 'G': [0, 1, 1, 1, 2]}\n",
    "    '''\n",
    "        \n",
    "    out = { key:[] for key in sorted( set( bwt_string ) ) }\n",
    "    for key in out.keys():\n",
    "        cnt = 0\n",
    "        for a in bwt_string:\n",
    "            cnt += int( a == key )\n",
    "            out[key].append( cnt )\n",
    "    return out"
   ]
  },
  {
   "cell_type": "code",
   "execution_count": 60,
   "metadata": {},
   "outputs": [
    {
     "data": {
      "text/plain": [
       "TestResults(failed=0, attempted=4)"
      ]
     },
     "execution_count": 60,
     "metadata": {},
     "output_type": "execute_result"
    }
   ],
   "source": [
    "import doctest\n",
    "doctest.testmod()"
   ]
  },
  {
   "cell_type": "code",
   "execution_count": null,
   "metadata": {},
   "outputs": [],
   "source": []
  }
 ],
 "metadata": {
  "kernelspec": {
   "display_name": "Python 3",
   "language": "python",
   "name": "python3"
  },
  "language_info": {
   "codemirror_mode": {
    "name": "ipython",
    "version": 3
   },
   "file_extension": ".py",
   "mimetype": "text/x-python",
   "name": "python",
   "nbconvert_exporter": "python",
   "pygments_lexer": "ipython3",
   "version": "3.7.1"
  }
 },
 "nbformat": 4,
 "nbformat_minor": 2
}
