{
 "cells": [
  {
   "cell_type": "markdown",
   "metadata": {},
   "source": [
    "# Class : De Bruijn graph"
   ]
  },
  {
   "cell_type": "markdown",
   "metadata": {},
   "source": [
    "---\n",
    "## Before Class\n",
    "1. Review slides on De Bruijn graphs and Eulerian walks\n",
    "\n",
    "---\n",
    "## Learning Objectives\n",
    "1. Understand and implement De Bruijn graphs for assembly\n"
   ]
  },
  {
   "cell_type": "markdown",
   "metadata": {},
   "source": [
    "---\n",
    "## De Bruijn graphs\n",
    "\n",
    "In class today we will be implementing one of the primary assembly algorithms from short-read data that is used today. We will implement a simple form of the algorithm where we assume perfect sequencing. That is, everything is sequenced exactly once and there are no errors or variants in the sequencing. This graph will use a similar structure to our previous work with trees, but we will need to track edges between nodes in our graph. We have provided the basic class structure as well as functions to `add_edge` and `remove_edge` from the graph. \n",
    "\n",
    "```\n",
    "build_debruijn_graph:\n",
    "define substring length k and input string\n",
    "For each k-length substring of input:\n",
    "  split k mer into left and right k-1 mer\n",
    "  add k-1 mers as nodes with a directed edge from left k-1 mer to right k-1 mer\n",
    "```\n",
    "\n",
    "---\n",
    "## Eulerian walk\n",
    "\n",
    "For the second part of the implementation, we will use our De Bruijn graph to output a valid sequence from the assembly. This is implemented as a recursive algorithm by considering all valid edges. You will notice that as you change k, we are able to better recapitulate our sequence depending on how repetitive it is. In a more complex implementation of a Eulerian walk there are heuristics and defined rules for determining the validity of traversing a specific edge in the graph to result in a full graph-traversal. One of these methods is to traverse the graph in a depth first manner (as we previously implemented in class) to avoid sectioning off any part of the graph in the traversal. In our implementation we will ignore these for simplicity.\n",
    "\n",
    "```\n",
    "eulerian_walk:\n",
    "Beginning at first_node as node\n",
    "\n",
    "For node:\n",
    "    follow a random valid edge from node\n",
    "    remove edge\n",
    "    recurse\n",
    "```\n"
   ]
  },
  {
   "cell_type": "code",
   "execution_count": 24,
   "metadata": {},
   "outputs": [],
   "source": [
    "from collections import defaultdict\n",
    "import random\n",
    "\n",
    "class DeBruijnGraph():\n",
    "    \"\"\"Main class for De Bruijn graphs\n",
    "    \n",
    "    Private Attributes:\n",
    "        graph (defaultdict of lists): Edges for De Bruijn graph\n",
    "        first_node (str): starting position for traversing the graph\n",
    "    \"\"\"\n",
    "\n",
    "    def __init__(self, input_string, k):\n",
    "        self.graph = defaultdict(list)\n",
    "        self.first_node = ''\n",
    "        self.build_debruijn_graph(input_string, k)\n",
    "        \n",
    "    def add_edge(self, left, right):\n",
    "        ''' This function adds a new edge to the graph\n",
    "        \n",
    "        Args:\n",
    "            left (str): The k-1 mer for the left edge\n",
    "            right (str): The k-1 mer for the right edge\n",
    "\n",
    "        Updates graph attribute to add right to the list named left in defaultdict   \n",
    "        '''\n",
    "        self.graph[left].append(right)\n",
    "        \n",
    "    def remove_edge(self, left, right):\n",
    "        ''' This function removed an edge from the graph\n",
    "        \n",
    "        Args:\n",
    "            left (str): The k-1 mer for the left edge\n",
    "            right (str): The k-1 mer for the right edge\n",
    "\n",
    "        Updates graph attribute to remove right from the list named left in defaultdict\n",
    "        '''\n",
    "        matching_edges = []\n",
    "        for i, key in enumerate(self.graph[left]):\n",
    "            if key == right:\n",
    "                self.graph[left].pop(i)\n",
    "                break\n",
    "\n",
    "        \n",
    "    def build_debruijn_graph(self, input_string, k):\n",
    "        ''' This function builds a De Buijn graph from a string\n",
    "        \n",
    "        Args:\n",
    "            input_string (str): string to use for building the graph\n",
    "            k (int): k-mer length for graph construction\n",
    "\n",
    "        Updates graph attribute to add all valid edges from the string\n",
    "        \n",
    "        Example:\n",
    "        >>> dbg = DeBruijnGraph(\"this this this is a test\", 4)\n",
    "        >>> print(dbg.graph) #doctest: +ELLIPSIS +NORMALIZE_WHITESPACE\n",
    "        defaultdict(<class 'list'>, {'thi': ['his', 'his', 'his'], 'his': ['is ', 'is ', 'is '], ...)\n",
    "        '''\n",
    "        \n",
    "        for i in range( 0, len( input_string ) - k + 1 ):\n",
    "            ai, bi = input_string[i:][:k][:-1], input_string[i:][:k][1:]\n",
    "            self.graph[ ai ].append( bi )\n",
    "\n",
    "            \n",
    "    def print_eulerian_walk(self, seed=None):\n",
    "        ''' This function starts the recursive walk function\n",
    "        at the first node in the graph\n",
    "        \n",
    "        Args: None\n",
    "        \n",
    "        Returns:\n",
    "            tour (list): list of k-1 mers traversed by the algorithm\n",
    "        \n",
    "        Example:\n",
    "        >>> dbg = DeBruijnGraph(\"this this this is a test\", 4)\n",
    "        >>> dbg.print_eulerian_walk(seed=1) #doctest: +ELLIPSIS +NORMALIZE_WHITESPACE\n",
    "        ['thi', 'his', 'is ', 's i', ' is', 'is ', ...]\n",
    "        '''\n",
    "        tour = []\n",
    "        tour = self.eulerian_walk(self.first_node, seed=seed)\n",
    "        tour.append(self.first_node)\n",
    "        return tour[::-1]\n",
    "        \n",
    "    def eulerian_walk(self, node, seed=None):\n",
    "        ''' This is a recursive function that follows all edges from a node\n",
    "        to traverse the graph\n",
    "        \n",
    "        Args: \n",
    "            node (str): current node to traverse from\n",
    "            seed (int): seed for random selection of edge to follow\n",
    "        \n",
    "        Returns:\n",
    "            tour (list): list of k-1 mers traversed so far by the algorithm\n",
    "            Note: this will be reverse order because of recursion\n",
    "            \n",
    "        Example:\n",
    "        >>> dbg = DeBruijnGraph(\"this this this is a test\", 4)\n",
    "        >>> dbg.eulerian_walk('thi', seed=1) #doctest: +ELLIPSIS +NORMALIZE_WHITESPACE\n",
    "        ['is ', 'his', 'thi', ' th', ...]\n",
    "        '''\n",
    "        \n",
    "        out = [ node ]\n",
    "        \n",
    "        while len( self.graph[ out[-1] ] ) > 0:\n",
    "            out.append( random.choice( self.graph[ out[-1] ] ) )\n",
    "            self.graph[ out ].remove( out[-1] )\n",
    "                \n",
    "        return out\n",
    "        \n",
    "        \n",
    "\n"
   ]
  },
  {
   "cell_type": "code",
   "execution_count": 23,
   "metadata": {},
   "outputs": [
    {
     "name": "stdout",
     "output_type": "stream",
     "text": [
      "thi his\n",
      "his is \n",
      "is  s t\n",
      "s t  th\n",
      " th thi\n",
      "thi his\n",
      "his is \n",
      "is  s t\n",
      "s t  th\n",
      " th thi\n",
      "thi his\n",
      "his is \n",
      "is  s i\n",
      "s i  is\n",
      " is is \n",
      "is  s a\n",
      "s a  a \n",
      " a  a t\n",
      "a t  te\n",
      " te tes\n",
      "tes est\n"
     ]
    }
   ],
   "source": [
    "a = \"this this this is a test\"\n",
    "\n",
    "k = 4\n",
    "for i in range( 0, len( a ) - k + 1 ):\n",
    "    ai,bi = a[i:][:k][:-1], a[i:][:k][1:]\n",
    "    \n",
    "    print( ai, bi )"
   ]
  },
  {
   "cell_type": "code",
   "execution_count": 12,
   "metadata": {},
   "outputs": [
    {
     "data": {
      "text/plain": [
       "[1, 3]"
      ]
     },
     "execution_count": 12,
     "metadata": {},
     "output_type": "execute_result"
    }
   ],
   "source": [
    "a = [1,2,3]\n",
    "a.remove( 2 )\n",
    "a"
   ]
  },
  {
   "cell_type": "code",
   "execution_count": null,
   "metadata": {},
   "outputs": [],
   "source": [
    "graph = DeBruijnGraph(\"fool me once shame on shame on you fool me\", 6)\n",
    "print(graph.graph)\n",
    "walk = graph.print_eulerian_walk(seed=11)\n",
    "walk[0] + ''.join(map(lambda x: x[-1], walk[1:]))"
   ]
  },
  {
   "cell_type": "code",
   "execution_count": 18,
   "metadata": {},
   "outputs": [
    {
     "name": "stdout",
     "output_type": "stream",
     "text": [
      "**********************************************************************\n",
      "File \"__main__\", line 97, in __main__.DeBruijnGraph.eulerian_walk\n",
      "Failed example:\n",
      "    dbg.eulerian_walk('thi', seed=1) #doctest: +ELLIPSIS +NORMALIZE_WHITESPACE\n",
      "Exception raised:\n",
      "    Traceback (most recent call last):\n",
      "      File \"/home/loganaw/miniconda3/lib/python3.7/doctest.py\", line 1329, in __run\n",
      "        compileflags, 1), test.globs)\n",
      "      File \"<doctest __main__.DeBruijnGraph.eulerian_walk[1]>\", line 1, in <module>\n",
      "        dbg.eulerian_walk('thi', seed=1) #doctest: +ELLIPSIS +NORMALIZE_WHITESPACE\n",
      "      File \"<ipython-input-17-801edf4c5bdc>\", line 105, in eulerian_walk\n",
      "        self.graph[ out ].remove( out[-1] )\n",
      "    TypeError: unhashable type: 'list'\n",
      "**********************************************************************\n",
      "File \"__main__\", line 75, in __main__.DeBruijnGraph.print_eulerian_walk\n",
      "Failed example:\n",
      "    dbg.print_eulerian_walk(seed=1) #doctest: +ELLIPSIS +NORMALIZE_WHITESPACE\n",
      "Exception raised:\n",
      "    Traceback (most recent call last):\n",
      "      File \"/home/loganaw/miniconda3/lib/python3.7/doctest.py\", line 1329, in __run\n",
      "        compileflags, 1), test.globs)\n",
      "      File \"<doctest __main__.DeBruijnGraph.print_eulerian_walk[1]>\", line 1, in <module>\n",
      "        dbg.print_eulerian_walk(seed=1) #doctest: +ELLIPSIS +NORMALIZE_WHITESPACE\n",
      "      File \"<ipython-input-17-801edf4c5bdc>\", line 79, in print_eulerian_walk\n",
      "        tour = self.eulerian_walk(self.first_node, seed=seed)\n",
      "      File \"<ipython-input-17-801edf4c5bdc>\", line 105, in eulerian_walk\n",
      "        self.graph[ out ].remove( out[-1] )\n",
      "    TypeError: unhashable type: 'list'\n",
      "**********************************************************************\n",
      "2 items had failures:\n",
      "   1 of   2 in __main__.DeBruijnGraph.eulerian_walk\n",
      "   1 of   2 in __main__.DeBruijnGraph.print_eulerian_walk\n",
      "***Test Failed*** 2 failures.\n"
     ]
    },
    {
     "data": {
      "text/plain": [
       "TestResults(failed=2, attempted=6)"
      ]
     },
     "execution_count": 18,
     "metadata": {},
     "output_type": "execute_result"
    }
   ],
   "source": [
    "import doctest\n",
    "doctest.testmod()"
   ]
  },
  {
   "cell_type": "code",
   "execution_count": null,
   "metadata": {},
   "outputs": [],
   "source": []
  }
 ],
 "metadata": {
  "kernelspec": {
   "display_name": "Python 3",
   "language": "python",
   "name": "python3"
  },
  "language_info": {
   "codemirror_mode": {
    "name": "ipython",
    "version": 3
   },
   "file_extension": ".py",
   "mimetype": "text/x-python",
   "name": "python",
   "nbconvert_exporter": "python",
   "pygments_lexer": "ipython3",
   "version": "3.7.1"
  }
 },
 "nbformat": 4,
 "nbformat_minor": 2
}
