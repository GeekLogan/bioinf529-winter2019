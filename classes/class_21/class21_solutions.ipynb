{
 "cells": [
  {
   "cell_type": "markdown",
   "metadata": {},
   "source": [
    "# Class : De Bruijn graph"
   ]
  },
  {
   "cell_type": "markdown",
   "metadata": {},
   "source": [
    "---\n",
    "## Before Class\n",
    "1. Review slides on De Bruijn graphs and Eulerian walks\n",
    "\n",
    "---\n",
    "## Learning Objectives\n",
    "1. Understand and implement De Bruijn graphs for assembly\n"
   ]
  },
  {
   "cell_type": "markdown",
   "metadata": {},
   "source": [
    "---\n",
    "## De Bruijn graphs\n",
    "\n",
    "In class today we will be implementing one of the primary assembly algorithms from short-read data that is used today. We will implement a simple form of the algorithm where we assume perfect sequencing. That is, everything is sequenced exactly once and there are no errors or variants in the sequencing. This graph will use a similar structure to our previous work with trees, but we will need to track edges between nodes in our graph. We have provided the basic class structure as well as functions to `add_edge` and `remove_edge` from the graph. \n",
    "\n",
    "```\n",
    "build_debruijn_graph:\n",
    "define substring length k and input string\n",
    "For each k-length substring of input:\n",
    "  split k mer into left and right k-1 mer\n",
    "  add k-1 mers as nodes with a directed edge from left k-1 mer to right k-1 mer\n",
    "```\n",
    "\n",
    "---\n",
    "## Eulerian walk\n",
    "\n",
    "For the second part of the implementation, we will use our De Bruijn graph to output a valid sequence from the assembly. This is implemented as a recursive algorithm by considering all valid edges. You will notice that as you change k, we are able to better recapitulate our sequence depending on how repetitive it is. In a more complex implementation of a Eulerian walk there are heuristics and defined rules for determining the validity of traversing a specific edge in the graph to result in a full graph-traversal. One of these methods is to traverse the graph in a depth first manner (as we previously implemented in class) to avoid sectioning off any part of the graph in the traversal. In our implementation we will ignore these for simplicity.\n",
    "\n",
    "```\n",
    "eulerian_walk:\n",
    "Beginning at first_node as node\n",
    "\n",
    "For node:\n",
    "    follow a random valid edge from node\n",
    "    remove edge\n",
    "    recurse\n",
    "```\n"
   ]
  },
  {
   "cell_type": "code",
   "execution_count": 435,
   "metadata": {},
   "outputs": [],
   "source": [
    "from collections import defaultdict\n",
    "import random\n",
    "\n",
    "class DeBruijnGraph():\n",
    "    \"\"\"Main class for De Bruijn graphs\n",
    "    \n",
    "    Private Attributes:\n",
    "        graph (defaultdict of lists): Edges for De Bruijn graph\n",
    "        first_node (str): starting position for traversing the graph\n",
    "    \"\"\"\n",
    "\n",
    "    def __init__(self, input_string, k):\n",
    "        self.graph = defaultdict(list)\n",
    "        self.first_node = ''\n",
    "        self.build_debruijn_graph(input_string, k)\n",
    "        \n",
    "    def add_edge(self, left, right):\n",
    "        ''' This function adds a new edge to the graph\n",
    "        \n",
    "        Args:\n",
    "            left (str): The k-1 mer for the left edge\n",
    "            right (str): The k-1 mer for the right edge\n",
    "\n",
    "        Updates graph attribute to add right to the list named left in defaultdict   \n",
    "        '''\n",
    "        self.graph[left].append(right)\n",
    "        \n",
    "    def remove_edge(self, left, right):\n",
    "        ''' This function removed an edge from the graph\n",
    "        \n",
    "        Args:\n",
    "            left (str): The k-1 mer for the left edge\n",
    "            right (str): The k-1 mer for the right edge\n",
    "\n",
    "        Updates graph attribute to remove right from the list named left in defaultdict\n",
    "        '''\n",
    "        matching_edges = []\n",
    "        for i, key in enumerate(self.graph[left]):\n",
    "            if key == right:\n",
    "                self.graph[left].pop(i)\n",
    "                break\n",
    "\n",
    "        \n",
    "    def build_debruijn_graph(self, input_string, k):\n",
    "        ''' This function builds a De Buijn graph from a string\n",
    "        \n",
    "        Args:\n",
    "            input_string (str): string to use for building the graph\n",
    "            k (int): k-mer length for graph construction\n",
    "\n",
    "        Updates graph attribute to add all valid edges from the string\n",
    "        \n",
    "        Example:\n",
    "        >>> dbg = DeBruijnGraph(\"this this this is a test\", 4)\n",
    "        >>> print(dbg.graph) #doctest: +ELLIPSIS +NORMALIZE_WHITESPACE\n",
    "        defaultdict(<class 'list'>, {'thi': ['his', 'his', 'his'], 'his': ['is ', 'is ', 'is '], ...)\n",
    "        '''\n",
    "        for i in range(len(input_string) - k + 1):\n",
    "            kmer = input_string[i:i+k]\n",
    "            left_mer = kmer[0:k-1]\n",
    "            right_mer = kmer[1:k]\n",
    "            self.add_edge(left_mer, right_mer)\n",
    "            \n",
    "            if i == 0:\n",
    "                self.first_node = left_mer\n",
    "        \n",
    "        #self.add_edge(right_mer, self.first_node)\n",
    "            \n",
    "    def print_eulerian_walk(self, seed=None):\n",
    "        ''' This function starts the recursive walk function\n",
    "        at the first node in the graph\n",
    "        \n",
    "        Args: None\n",
    "        \n",
    "        Returns:\n",
    "            tour (list): list of k-1 mers traversed by the algorithm\n",
    "        \n",
    "        Example:\n",
    "        >>> dbg = DeBruijnGraph(\"this this this is a test\", 4)\n",
    "        >>> dbg.print_eulerian_walk(seed=1) #doctest: +ELLIPSIS +NORMALIZE_WHITESPACE\n",
    "        ['thi', 'his', 'is ', 's i', ' is', 'is ', ...]\n",
    "        '''\n",
    "        tour = []\n",
    "        tour = self.eulerian_walk(self.first_node, seed=seed)\n",
    "        tour.append(self.first_node)\n",
    "        return tour[::-1]\n",
    "        \n",
    "    def eulerian_walk(self, node, seed=None):\n",
    "        ''' This is a recursive function that follows all edges from a node\n",
    "        to traverse the graph\n",
    "        \n",
    "        Args: \n",
    "            node (str): current node to traverse from\n",
    "            seed (int): seed for random selection of edge to follow\n",
    "        \n",
    "        Returns:\n",
    "            tour (list): list of k-1 mers traversed so far by the algorithm\n",
    "            Note: this will be reverse order because of recursion\n",
    "            \n",
    "        Example:\n",
    "        >>> dbg = DeBruijnGraph(\"this this this is a test\", 4)\n",
    "        >>> dbg.eulerian_walk('thi', seed=1) #doctest: +ELLIPSIS +NORMALIZE_WHITESPACE\n",
    "        ['is ', 'his', 'thi', ' th', ...]\n",
    "        '''\n",
    "        tour = []\n",
    "        random.seed(seed)\n",
    "        random.shuffle(self.graph[node])\n",
    "        for next_node in self.graph[node]:\n",
    "            self.remove_edge(node, next_node)\n",
    "            tour = self.eulerian_walk(next_node, seed=seed)\n",
    "            tour.append(next_node)\n",
    "        return tour\n"
   ]
  },
  {
   "cell_type": "code",
   "execution_count": 434,
   "metadata": {},
   "outputs": [
    {
     "name": "stdout",
     "output_type": "stream",
     "text": [
      "defaultdict(<class 'list'>, {'fool ': ['ool m', 'ool m'], 'ool m': ['ol me', 'ol me'], 'ol me': ['l me '], 'l me ': [' me o'], ' me o': ['me on'], 'me on': ['e onc', 'e on ', 'e on '], 'e onc': [' once'], ' once': ['once '], 'once ': ['nce s'], 'nce s': ['ce sh'], 'ce sh': ['e sha'], 'e sha': [' sham'], ' sham': ['shame', 'shame'], 'shame': ['hame ', 'hame '], 'hame ': ['ame o', 'ame o'], 'ame o': ['me on', 'me on'], 'e on ': [' on s', ' on y'], ' on s': ['on sh'], 'on sh': ['n sha'], 'n sha': [' sham'], ' on y': ['on yo'], 'on yo': ['n you'], 'n you': [' you '], ' you ': ['you f'], 'you f': ['ou fo'], 'ou fo': ['u foo'], 'u foo': [' fool'], ' fool': ['fool ']})\n"
     ]
    },
    {
     "data": {
      "text/plain": [
       "'fool me once shame on shame on you fool me'"
      ]
     },
     "execution_count": 434,
     "metadata": {},
     "output_type": "execute_result"
    }
   ],
   "source": [
    "graph = DeBruijnGraph(\"fool me once shame on shame on you fool me\", 6)\n",
    "print(graph.graph)\n",
    "walk = graph.print_eulerian_walk(seed=11)\n",
    "walk[0] + ''.join(map(lambda x: x[-1], walk[1:]))"
   ]
  },
  {
   "cell_type": "code",
   "execution_count": 431,
   "metadata": {},
   "outputs": [
    {
     "data": {
      "text/plain": [
       "TestResults(failed=0, attempted=6)"
      ]
     },
     "execution_count": 431,
     "metadata": {},
     "output_type": "execute_result"
    }
   ],
   "source": [
    "import doctest\n",
    "doctest.testmod()"
   ]
  },
  {
   "cell_type": "code",
   "execution_count": null,
   "metadata": {},
   "outputs": [],
   "source": []
  }
 ],
 "metadata": {
  "kernelspec": {
   "display_name": "Python 3",
   "language": "python",
   "name": "python3"
  },
  "language_info": {
   "codemirror_mode": {
    "name": "ipython",
    "version": 3
   },
   "file_extension": ".py",
   "mimetype": "text/x-python",
   "name": "python",
   "nbconvert_exporter": "python",
   "pygments_lexer": "ipython3",
   "version": "3.7.2"
  }
 },
 "nbformat": 4,
 "nbformat_minor": 2
}
