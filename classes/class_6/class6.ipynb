{
 "cells": [
  {
   "cell_type": "markdown",
   "metadata": {},
   "source": [
    "# Class : Grapical Models - Markov Chains"
   ]
  },
  {
   "cell_type": "markdown",
   "metadata": {},
   "source": [
    "---\n",
    "\n",
    "## Before Class\n",
    "In class today we will be implementing a Markov chain to process sentences\n",
    "Prior to class, please do the following:\n",
    "1. Review slides on Markov chains in detail\n",
    "* Explore using the python dict() structure and how a dict() can contain nested dict() structures\n",
    "* Again, review numpy.random.choice()"
   ]
  },
  {
   "cell_type": "markdown",
   "metadata": {},
   "source": [
    "---\n",
    "## Learning Objectives\n",
    "\n",
    "1. Conceptually understand Markov Chains\n",
    "* Implement a Markov Chain\n",
    "* Generate data using Markov Chain"
   ]
  },
  {
   "cell_type": "markdown",
   "metadata": {},
   "source": [
    "---\n",
    "## Background"
   ]
  },
  {
   "cell_type": "markdown",
   "metadata": {},
   "source": [
    "Recall from the lectures that Markov Chains represent a series of events following the Markov Property: future states are memory-less in that they depend only on the current state. This can be expanded to the idea of variable order Markov models where there is a variable-length memory (eg. 1st order Markov Model). Markov models consist of fully observable states. A common example of this is in predicting the weather: We can clearly see the current weather and would like to predict tomorrow's weather. As shown in the slides, this is also applicable to biology with one case being CpG islands. \n",
    "\n",
    "Our goal today will be to implement a Markov model built from words. For our example text, we will use the classic example of Dr. Seuss because of the repetitive nature of the text."
   ]
  },
  {
   "cell_type": "markdown",
   "metadata": {},
   "source": [
    "---\n",
    "## Imports"
   ]
  },
  {
   "cell_type": "code",
   "execution_count": 1,
   "metadata": {},
   "outputs": [],
   "source": [
    "import os\n",
    "import numpy as np"
   ]
  },
  {
   "cell_type": "markdown",
   "metadata": {},
   "source": [
    "---\n",
    "## Train Markov model\n",
    "\n",
    "For our initial implementation of the Markov Model, we will use the simple example of Dr. Seuss: \"One fish two fish red fish blue fish.\" To match my expected output, use a start state of $*S*$ and an end state of $*E*$.\n",
    "\n"
   ]
  },
  {
   "cell_type": "code",
   "execution_count": 2,
   "metadata": {},
   "outputs": [],
   "source": [
    "from collections import defaultdict\n",
    "\n",
    "def build_markov_model(markov_model, new_text):\n",
    "    '''\n",
    "    Function to build or add to a 1st order Markov model given a string of text\n",
    "    We will store the markov model as a dictionary of dictionaries\n",
    "    The key in the outer dictionary represents the current state\n",
    "    and the inner dictionary represents the next state with their contents containing\n",
    "    the transition probabilities.\n",
    "    Note: This would be easier to read if we were to build a class representation\n",
    "           of the model rather than a dictionary of dictionaries, but for simplicitiy\n",
    "           our implementation will just use this structure.\n",
    "    \n",
    "    Args: \n",
    "        markov_model (dict of dicts): a dictionary of word:(next_word:frequency pairs)\n",
    "        new_text (str): a string to build or add to the moarkov_model\n",
    "\n",
    "    Returns:\n",
    "        markov_model (dict of dicts): an updated markov_model\n",
    "        \n",
    "    Pseudocode:\n",
    "        Add artificial states for start and end\n",
    "        For each word in text:\n",
    "            Increment markov_model[word][next_word]\n",
    "        \n",
    "    '''\n",
    "    \n",
    "    \n",
    "    mm = defaultdict( lambda: defaultdict( lambda: 0 ), markov_model )\n",
    "\n",
    "    nt = [ '*S*' ] + new_text.split() + [ '*E*' ]\n",
    "    for i, ip1 in zip( nt[:-1], nt[1:] ): mm[i][ip1] += 1\n",
    "    \n",
    "    return mm\n",
    "   \n"
   ]
  },
  {
   "cell_type": "code",
   "execution_count": 3,
   "metadata": {},
   "outputs": [
    {
     "name": "stdout",
     "output_type": "stream",
     "text": [
      "defaultdict(<function build_markov_model.<locals>.<lambda> at 0x7fdc73ae9488>, {'*S*': defaultdict(<function build_markov_model.<locals>.<lambda>.<locals>.<lambda> at 0x7fdc73ae9b70>, {'one': 1}), 'one': defaultdict(<function build_markov_model.<locals>.<lambda>.<locals>.<lambda> at 0x7fdc73ae99d8>, {'fish': 1}), 'fish': defaultdict(<function build_markov_model.<locals>.<lambda>.<locals>.<lambda> at 0x7fdc73ae9a60>, {'two': 1, 'red': 1, 'blue': 1, '*E*': 1}), 'two': defaultdict(<function build_markov_model.<locals>.<lambda>.<locals>.<lambda> at 0x7fdc73ae9378>, {'fish': 1}), 'red': defaultdict(<function build_markov_model.<locals>.<lambda>.<locals>.<lambda> at 0x7fdc73ae9400>, {'fish': 1}), 'blue': defaultdict(<function build_markov_model.<locals>.<lambda>.<locals>.<lambda> at 0x7fdc73ae9bf8>, {'fish': 1})})\n"
     ]
    }
   ],
   "source": [
    "markov_model = dict()\n",
    "text = \"one fish two fish red fish blue fish\"\n",
    "\n",
    "markov_model = build_markov_model(markov_model, text)\n",
    "\n",
    "print (markov_model)"
   ]
  },
  {
   "cell_type": "raw",
   "metadata": {},
   "source": [
    "Expected output:\n",
    "{'*S*': {'one': 1}, 'one': {'fish': 1}, 'fish': {'two': 1, 'red': 1, 'blue': 1, '*E*': 1}, 'two': {'fish': 1}, 'red': {'fish': 1}, 'blue': {'fish': 1}}"
   ]
  },
  {
   "cell_type": "markdown",
   "metadata": {},
   "source": [
    "## Generate text from Markov Model\n",
    "\n",
    "Markov models are \"generative models\". That is, the probability states in the model can be used to generate output following the conditional probabilities in the model.\n",
    "\n",
    "We will now generate a sequence of text from the Markov model:"
   ]
  },
  {
   "cell_type": "code",
   "execution_count": 4,
   "metadata": {},
   "outputs": [],
   "source": [
    "def get_next_word(current_word, markov_model):\n",
    "    '''\n",
    "    Function to randomly move a valid next state given a markov model\n",
    "    and a current state (word)\n",
    "    \n",
    "    Args: \n",
    "        current_word (str): a word that exists in our model\n",
    "        markov_model (dict of dicts): a dictionary of word:(next_word:frequency pairs)\n",
    "\n",
    "    Returns:\n",
    "        next_word (str): a randomly selected next word based on transition probabilies\n",
    "        \n",
    "    Pseudocode:\n",
    "        Calculate transition probilities for all next states from a given state (counts/sum)\n",
    "        Randomly draw from these to generate the next state\n",
    "        \n",
    "    '''\n",
    "    \n",
    "    possible_results = list( markov_model[ current_word ].keys() )\n",
    "    \n",
    "    p_v = np.array( [ markov_model[ current_word ][ x ] for x in possible_results ], dtype=float )\n",
    "    \n",
    "    return np.random.choice( possible_results , p=p_v/np.sum( p_v ) )\n",
    "    \n",
    "def generate_random_text(markov_model):\n",
    "    '''\n",
    "    Function to generate text given a markov model\n",
    "    \n",
    "    Args: \n",
    "        markov_model (dict of dicts): a dictionary of word:(next_word:frequency pairs)\n",
    "\n",
    "    Returns:\n",
    "        sentence (str): a randomly generated sequence given the model\n",
    "        \n",
    "    Pseudocode:\n",
    "        Initialize sentence at start state\n",
    "        Until End State:\n",
    "            append get_next_word(current_word, markov_model)\n",
    "        Return sentence\n",
    "        \n",
    "    '''\n",
    "    \n",
    "    to_return = [ '*S*' ]\n",
    "    \n",
    "    while to_return[ -1 ] != '*E*':\n",
    "        to_return.append( get_next_word( to_return[ -1 ], markov_model ) )\n",
    "    \n",
    "    return ' '.join( to_return[1:-1] )\n"
   ]
  },
  {
   "cell_type": "code",
   "execution_count": 5,
   "metadata": {},
   "outputs": [
    {
     "name": "stdout",
     "output_type": "stream",
     "text": [
      "one fish red fish blue fish red fish two fish red fish red fish blue fish red fish\n"
     ]
    }
   ],
   "source": [
    "# Print a random sentence from our markov chain:\n",
    "print (generate_random_text(markov_model))"
   ]
  },
  {
   "cell_type": "code",
   "execution_count": 6,
   "metadata": {},
   "outputs": [
    {
     "name": "stdout",
     "output_type": "stream",
     "text": [
      "defaultdict(<function build_markov_model.<locals>.<lambda> at 0x7fdc73ae9488>, {'*S*': defaultdict(<function build_markov_model.<locals>.<lambda>.<locals>.<lambda> at 0x7fdc73ae9b70>, {'one': 1, 'black': 1, 'this': 2, 'say': 1, 'yes': 1, 'some': 1}), 'one': defaultdict(<function build_markov_model.<locals>.<lambda>.<locals>.<lambda> at 0x7fdc73ae99d8>, {'fish': 1, 'has': 2}), 'fish': defaultdict(<function build_markov_model.<locals>.<lambda>.<locals>.<lambda> at 0x7fdc73ae9a60>, {'two': 1, 'red': 1, 'blue': 2, '*E*': 2, 'old': 1, 'new': 1, 'there': 1}), 'two': defaultdict(<function build_markov_model.<locals>.<lambda>.<locals>.<lambda> at 0x7fdc73ae9378>, {'fish': 1}), 'red': defaultdict(<function build_markov_model.<locals>.<lambda>.<locals>.<lambda> at 0x7fdc73ae9400>, {'fish': 1, 'and': 1}), 'blue': defaultdict(<function build_markov_model.<locals>.<lambda>.<locals>.<lambda> at 0x7fdc73ae9bf8>, {'fish': 2, '*E*': 1}), 'black': defaultdict(<function build_markov_model.<locals>.<lambda>.<locals>.<lambda> at 0x7fdc88d54510>, {'fish': 1}), 'old': defaultdict(<function build_markov_model.<locals>.<lambda>.<locals>.<lambda> at 0x7fdc895bff28>, {'fish': 1, 'and': 1}), 'new': defaultdict(<function build_markov_model.<locals>.<lambda>.<locals>.<lambda> at 0x7fdc895bfd08>, {'fish': 1, '*E*': 1}), 'this': defaultdict(<function build_markov_model.<locals>.<lambda>.<locals>.<lambda> at 0x7fdc73af42f0>, {'one': 2}), 'has': defaultdict(<function build_markov_model.<locals>.<lambda>.<locals>.<lambda> at 0x7fdc73af4268>, {'a': 2}), 'a': defaultdict(<function build_markov_model.<locals>.<lambda>.<locals>.<lambda> at 0x7fdc73af4378>, {'little': 2, 'lot': 1}), 'little': defaultdict(<function build_markov_model.<locals>.<lambda>.<locals>.<lambda> at 0x7fdc73af41e0>, {'car': 1, 'star': 1}), 'car': defaultdict(<function build_markov_model.<locals>.<lambda>.<locals>.<lambda> at 0x7fdc73af4158>, {'*E*': 1}), 'star': defaultdict(<function build_markov_model.<locals>.<lambda>.<locals>.<lambda> at 0x7fdc73af40d0>, {'*E*': 1}), 'say': defaultdict(<function build_markov_model.<locals>.<lambda>.<locals>.<lambda> at 0x7fdc73af4048>, {'what': 1}), 'what': defaultdict(<function build_markov_model.<locals>.<lambda>.<locals>.<lambda> at 0x7fdc73af4620>, {'a': 1}), 'lot': defaultdict(<function build_markov_model.<locals>.<lambda>.<locals>.<lambda> at 0x7fdc73af46a8>, {'of': 1}), 'of': defaultdict(<function build_markov_model.<locals>.<lambda>.<locals>.<lambda> at 0x7fdc73af4730>, {'fish': 1}), 'there': defaultdict(<function build_markov_model.<locals>.<lambda>.<locals>.<lambda> at 0x7fdc73af47b8>, {'are': 1}), 'are': defaultdict(<function build_markov_model.<locals>.<lambda>.<locals>.<lambda> at 0x7fdc73af4840>, {'*E*': 1, 'red': 1, 'blue': 1, 'old': 1, 'new': 1}), 'yes': defaultdict(<function build_markov_model.<locals>.<lambda>.<locals>.<lambda> at 0x7fdc73af48c8>, {'some': 1}), 'some': defaultdict(<function build_markov_model.<locals>.<lambda>.<locals>.<lambda> at 0x7fdc73af4950>, {'are': 4}), 'and': defaultdict(<function build_markov_model.<locals>.<lambda>.<locals>.<lambda> at 0x7fdc73af49d8>, {'some': 2})})\n"
     ]
    }
   ],
   "source": [
    "# Now just add some more training data to the markov model\n",
    "markov_model = build_markov_model(markov_model, \"black fish blue fish old fish new fish\")\n",
    "markov_model = build_markov_model(markov_model, \"this one has a little car\")\n",
    "markov_model = build_markov_model(markov_model, \"this one has a little star\")\n",
    "markov_model = build_markov_model(markov_model, \"say what a lot of fish there are\")\n",
    "markov_model = build_markov_model(markov_model, \"yes some are red and some are blue\")\n",
    "markov_model = build_markov_model(markov_model, \"some are old and some are new\")\n",
    "\n",
    "print(markov_model)"
   ]
  },
  {
   "cell_type": "raw",
   "metadata": {},
   "source": [
    "Expected output:\n",
    "{'*S*': {'one': 1, 'black': 1, 'this': 2, 'say': 1, 'yes': 1, 'some': 1}, 'one': {'fish': 1, 'has': 2}, 'fish': {'two': 1, 'red': 1, 'blue': 2, '*E*': 2, 'old': 1, 'new': 1, 'there': 1}, 'two': {'fish': 1}, 'red': {'fish': 1, 'and': 1}, 'blue': {'fish': 2, '*E*': 1}, 'black': {'fish': 1}, 'old': {'fish': 1, 'and': 1}, 'new': {'fish': 1, '*E*': 1}, 'this': {'one': 2}, 'has': {'a': 2}, 'a': {'little': 2, 'lot': 1}, 'little': {'car': 1, 'star': 1}, 'car': {'*E*': 1}, 'star': {'*E*': 1}, 'say': {'what': 1}, 'what': {'a': 1}, 'lot': {'of': 1}, 'of': {'fish': 1}, 'there': {'are': 1}, 'are': {'*E*': 1, 'red': 1, 'blue': 1, 'old': 1, 'new': 1}, 'yes': {'some': 1}, 'some': {'are': 4}, 'and': {'some': 2}}"
   ]
  },
  {
   "cell_type": "code",
   "execution_count": 7,
   "metadata": {},
   "outputs": [
    {
     "name": "stdout",
     "output_type": "stream",
     "text": [
      "black fish blue fish\n",
      "say what a little car\n",
      "this one has a lot of fish blue fish blue fish blue\n",
      "some are blue fish red fish blue\n",
      "one fish old fish two fish blue fish\n",
      "this one has a little star\n",
      "this one has a little car\n",
      "this one fish old and some are red fish new fish blue fish there are red and some are red and some are\n",
      "one fish two fish two fish\n",
      "this one has a little star\n"
     ]
    }
   ],
   "source": [
    "# And print a more complex sentence\n",
    "for i in range( 10 ):\n",
    "    print (generate_random_text(markov_model))"
   ]
  },
  {
   "cell_type": "code",
   "execution_count": null,
   "metadata": {},
   "outputs": [],
   "source": []
  },
  {
   "cell_type": "code",
   "execution_count": null,
   "metadata": {},
   "outputs": [],
   "source": []
  }
 ],
 "metadata": {
  "kernelspec": {
   "display_name": "Python 3",
   "language": "python",
   "name": "python3"
  },
  "language_info": {
   "codemirror_mode": {
    "name": "ipython",
    "version": 3
   },
   "file_extension": ".py",
   "mimetype": "text/x-python",
   "name": "python",
   "nbconvert_exporter": "python",
   "pygments_lexer": "ipython3",
   "version": "3.7.1"
  }
 },
 "nbformat": 4,
 "nbformat_minor": 2
}
