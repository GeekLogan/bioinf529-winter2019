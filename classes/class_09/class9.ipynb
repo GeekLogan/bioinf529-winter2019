{
 "cells": [
  {
   "cell_type": "markdown",
   "metadata": {},
   "source": [
    "# Class : Profile HMMs\n",
    "\n",
    "---\n",
    "\n",
    "Today we will be reviewing Profile HMMs in class including a demonstration of how we can implement profile HMMs using our existing framework. We will then explore a tool for building and using profile HMMs called HMMER. (http://hmmer.org/)\n",
    "\n",
    "This is a diagram of Hidden Markov Model used in HMMER (from the HMMER User Guide by Sean Eddy). The chain of match (M), insert (I), and deletion (D) states can be extended to match the length of the multiple sequence alignment that is used as the training set to produce a model. Individual sequences may then be aligned to the model and scored based on the probability that the model would emit that sequence."
   ]
  },
  {
   "cell_type": "markdown",
   "metadata": {},
   "source": [
    "<center><img src='./figures/PMC2691815_gkp120f1.png'/></center>"
   ]
  },
  {
   "cell_type": "markdown",
   "metadata": {},
   "source": [
    "Related to hmmer is the pfam database. The pfam (protein family) database is a curated collection of Hidden Markov Models for protein families and domains. hmmer is used to generate the HMMs from multiple alignments. One of the hmmer programs can be used to compare a protein sequence to the models in the database. You can run searches at http://pfam.xfam.org/search and get the data from http://pfam.xfam.org/. \n",
    "\n",
    "Today we will be using this tool as a demonstration of a profile HMM."
   ]
  },
  {
   "cell_type": "markdown",
   "metadata": {},
   "source": [
    "To begin, we will need to install hmmer in your environments: `$ conda install -c bioconda hmmer`"
   ]
  },
  {
   "cell_type": "markdown",
   "metadata": {},
   "source": [
    "Next, we will build our own HMM using hmmer from a multiple sequence alignment (one of which was an example in your slides for today). A common tool for generating multiple sequence alignments is ClustalW; however, we will be writing our own tool for multiple sequence alignment in the upcoming weeks!\n",
    "\n",
    "To get started, lets assume that we have a multiple sequence alignment of members of the globin gene family. We will then use HMMER to search for additional remote homologues of this family.\n",
    "\n",
    "We will use the hmmbuild function to accomplish this first step. Explore the interface for using hmmbuild and the alignment file below. Then build your hmm called globins2.hmm using hmmbuild."
   ]
  },
  {
   "cell_type": "code",
   "execution_count": null,
   "metadata": {},
   "outputs": [],
   "source": [
    "! cat data/globins4.sto"
   ]
  },
  {
   "cell_type": "code",
   "execution_count": null,
   "metadata": {},
   "outputs": [],
   "source": [
    "! hmmbuild -h"
   ]
  },
  {
   "cell_type": "code",
   "execution_count": null,
   "metadata": {},
   "outputs": [],
   "source": [
    "# Build your hmm here\n"
   ]
  },
  {
   "cell_type": "markdown",
   "metadata": {},
   "source": [
    "Next we need to compress the hmm file for use by the rest of the hmmer suite:"
   ]
  },
  {
   "cell_type": "code",
   "execution_count": null,
   "metadata": {},
   "outputs": [],
   "source": [
    "! hmmpress globins4.hmm"
   ]
  },
  {
   "cell_type": "markdown",
   "metadata": {},
   "source": [
    "Take a look at the HMM generated. Does this look similar to our HMMs?"
   ]
  },
  {
   "cell_type": "code",
   "execution_count": null,
   "metadata": {},
   "outputs": [],
   "source": [
    "! cat globins4.hmm"
   ]
  },
  {
   "cell_type": "markdown",
   "metadata": {},
   "source": [
    "Now we will use our HMM to scan a database of proteins for similar domains. To do this, we will use the UNIPROT database (ftp://ftp.uniprot.org/pub/databases/uniprot/current_release/knowledgebase/complete/uniprot_sprot.fasta.gz). Download and uncompress this database into your datafolder.\n",
    "\n",
    "We will use the hmmsearch function. The key value in this is the first column: E-value. E-value is the expected number of false positivies that scored this well or better - a lower E-value means a better match. The second column is  the log-odds score for the complete sequence being scanned. This is exactly what we would calculate by taking the log-odds of the forward probability as described in the slides."
   ]
  },
  {
   "cell_type": "code",
   "execution_count": null,
   "metadata": {},
   "outputs": [],
   "source": [
    "! hmmsearch -h"
   ]
  },
  {
   "cell_type": "code",
   "execution_count": null,
   "metadata": {},
   "outputs": [],
   "source": [
    "# Search your sequences using your profile HMM here:\n"
   ]
  },
  {
   "cell_type": "markdown",
   "metadata": {},
   "source": [
    "Finally, we can expand the search of our proteins of interest using the entire PFAM database. PFAM is a collection of profile HMMs build just as we did for globin. You can get the PFAM HMMs here: ftp://ftp.ebi.ac.uk/pub/databases/Pfam/current_release/Pfam-A.hmm.gz\n",
    "\n",
    "To do this, we now want to scan a sequence against the entire profile database, so this uses the hmmscan function. We will scan our unknown seqeuence $data/unknown.fasta$ to see what domains it has."
   ]
  },
  {
   "cell_type": "code",
   "execution_count": null,
   "metadata": {},
   "outputs": [],
   "source": [
    "! hmmscan -h"
   ]
  },
  {
   "cell_type": "code",
   "execution_count": null,
   "metadata": {},
   "outputs": [],
   "source": [
    "# Scan unknown.fasta here\n"
   ]
  }
 ],
 "metadata": {
  "kernelspec": {
   "display_name": "Python 3",
   "language": "python",
   "name": "python3"
  },
  "language_info": {
   "codemirror_mode": {
    "name": "ipython",
    "version": 3
   },
   "file_extension": ".py",
   "mimetype": "text/x-python",
   "name": "python",
   "nbconvert_exporter": "python",
   "pygments_lexer": "ipython3",
   "version": "3.7.2"
  }
 },
 "nbformat": 4,
 "nbformat_minor": 2
}
