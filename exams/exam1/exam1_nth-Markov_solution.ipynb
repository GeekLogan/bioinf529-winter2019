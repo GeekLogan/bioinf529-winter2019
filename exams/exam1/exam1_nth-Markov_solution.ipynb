{
 "cells": [
  {
   "cell_type": "markdown",
   "metadata": {},
   "source": [
    "# Exam 1 - Nth Order Markov Chains"
   ]
  },
  {
   "cell_type": "code",
   "execution_count": 1,
   "metadata": {},
   "outputs": [],
   "source": [
    "import os\n",
    "import numpy as np"
   ]
  },
  {
   "cell_type": "markdown",
   "metadata": {},
   "source": [
    "## Nth-Order Markov Models"
   ]
  },
  {
   "cell_type": "code",
   "execution_count": 2,
   "metadata": {},
   "outputs": [],
   "source": [
    "import random\n",
    "\n",
    "def build_markov_model(markov_model, text, order=1):\n",
    "    words = text.split()\n",
    "    words.append(\"*E*\")\n",
    "    \n",
    "    if '*S*' in markov_model:\n",
    "        if tuple(words[0:order]) in markov_model['*S*']:\n",
    "            markov_model['*S*'][tuple(words[0:order])] += 1\n",
    "        else:\n",
    "            markov_model['*S*'][tuple(words[0:order])] = 1\n",
    "    else:\n",
    "        markov_model['*S*'] = {}\n",
    "        markov_model['*S*'][tuple(words[0:order])] = 1\n",
    "    \n",
    "    for i in range(0, len(words)-order):\n",
    "        word_set = tuple(words[i:i+order])\n",
    "        \n",
    "        if word_set in markov_model:\n",
    "            if words[i+order] in markov_model[word_set]:\n",
    "                markov_model[word_set][words[i+order]] += 1\n",
    "            else:\n",
    "                markov_model[word_set][words[i+order]] = 1\n",
    "        else:\n",
    "            markov_model[word_set] = {}\n",
    "            markov_model[word_set][words[i+order]] = 1\n",
    "                            \n",
    "    return markov_model\n",
    "\n",
    "def get_next_word(current_word, markov_model):\n",
    "\n",
    "    # Sum counts for all transitions from a state\n",
    "    state_sum = sum(markov_model[current_word].values())\n",
    "\n",
    "    # Get a random value 0 <= value < 1\n",
    "    random_val = random.randint(1, state_sum)\n",
    "    \n",
    "    # Pick a next_state based on their probabilities\n",
    "    for next_state in markov_model[current_word]:\n",
    "        if markov_model[current_word][next_state] >= random_val:\n",
    "            return next_state\n",
    "        else:\n",
    "            random_val -= markov_model[current_word][next_state]\n",
    "    \n",
    "def generate_random_text(markov_model):\n",
    "    \n",
    "    # We must start at the initial state of the model\n",
    "    current_word = \"*S*\"\n",
    "    current_tuple = get_next_word(current_word, markov_model)\n",
    "    \n",
    "    # Keeping track of the sentence as a list (ignoring the start state)\n",
    "    sentence = list(current_tuple)\n",
    "\n",
    "    # Until the model generates an end state, keep adding random words\n",
    "    while current_word != \"*E*\":\n",
    "        current_word = get_next_word(current_tuple, markov_model)\n",
    "        \n",
    "        # Don't append the end state to our output\n",
    "        if current_word != \"*E*\":\n",
    "            sentence.append(current_word)\n",
    "            \n",
    "        current_list = list(current_tuple)\n",
    "        current_list.pop(0)\n",
    "        current_list.append(current_word)\n",
    "        current_tuple = tuple(current_list)\n",
    "\n",
    "    # Return the words with spaces between them\n",
    "    return ' '.join(sentence)"
   ]
  },
  {
   "cell_type": "code",
   "execution_count": 4,
   "metadata": {},
   "outputs": [
    {
     "name": "stdout",
     "output_type": "stream",
     "text": [
      "“Programming is like sex: one mistake and you’re providing support for a lifetime.”(Michael Sinz)\n",
      "“There are two major products that come out of Berkeley: LSD and UNIX. We don’t believe this to be a coincidence.”(Jeremy S. Anderson)\n"
     ]
    }
   ],
   "source": [
    "markov_model = dict()\n",
    "\n",
    "file = open(\"data/quotes.txt\", \"r\")\n",
    "for quote in file:\n",
    "    markov_model = build_markov_model(markov_model, quote ,3)\n",
    "#print (markov_model)\n",
    "\n",
    "#random.seed(3)\n",
    "print (generate_random_text(markov_model))\n",
    "print (generate_random_text(markov_model))"
   ]
  },
  {
   "cell_type": "code",
   "execution_count": null,
   "metadata": {},
   "outputs": [],
   "source": []
  }
 ],
 "metadata": {
  "kernelspec": {
   "display_name": "Python 3",
   "language": "python",
   "name": "python3"
  },
  "language_info": {
   "codemirror_mode": {
    "name": "ipython",
    "version": 3
   },
   "file_extension": ".py",
   "mimetype": "text/x-python",
   "name": "python",
   "nbconvert_exporter": "python",
   "pygments_lexer": "ipython3",
   "version": "3.7.2"
  }
 },
 "nbformat": 4,
 "nbformat_minor": 2
}
